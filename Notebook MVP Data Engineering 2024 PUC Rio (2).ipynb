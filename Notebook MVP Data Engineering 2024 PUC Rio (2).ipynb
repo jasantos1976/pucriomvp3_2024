{
 "cells": [
  {
   "cell_type": "markdown",
   "metadata": {
    "application/vnd.databricks.v1+cell": {
     "cellMetadata": {},
     "inputWidgets": {},
     "nuid": "dbe239e9-90c3-4187-9f3e-1a45efe111ab",
     "showTitle": false,
     "title": ""
    }
   },
   "source": [
    "# Importando as bibliotecas"
   ]
  },
  {
   "cell_type": "code",
   "execution_count": 0,
   "metadata": {
    "application/vnd.databricks.v1+cell": {
     "cellMetadata": {
      "byteLimit": 2048000,
      "rowLimit": 10000
     },
     "inputWidgets": {},
     "nuid": "693a65f0-b28d-431c-821f-f4f1b578c5da",
     "showTitle": false,
     "title": ""
    }
   },
   "outputs": [],
   "source": [
    "import pandas as pd\n",
    "from pyspark.sql import functions as F\n",
    "from pyspark.sql.functions import col, when, current_date, count, avg\n"
   ]
  },
  {
   "cell_type": "markdown",
   "metadata": {
    "application/vnd.databricks.v1+cell": {
     "cellMetadata": {},
     "inputWidgets": {},
     "nuid": "645e42f2-f928-4493-85c8-0f2b43622934",
     "showTitle": false,
     "title": ""
    }
   },
   "source": [
    "# Pontos de Montagem (bronze, silver e gold)"
   ]
  },
  {
   "cell_type": "code",
   "execution_count": 0,
   "metadata": {
    "application/vnd.databricks.v1+cell": {
     "cellMetadata": {
      "byteLimit": 2048000,
      "rowLimit": 10000
     },
     "inputWidgets": {},
     "nuid": "f0d06d5b-ad54-4870-8039-594979d7d5f0",
     "showTitle": false,
     "title": ""
    }
   },
   "outputs": [
    {
     "output_type": "stream",
     "name": "stdout",
     "output_type": "stream",
     "text": [
      "O ponto de montagem BRONZE já existe.\n"
     ]
    }
   ],
   "source": [
    "# Montar o caminho para o contêiner bronze na Azure\n",
    "mounts = dbutils.fs.mounts()\n",
    "mounted_paths = [mount.mountPoint for mount in mounts]\n",
    "\n",
    "if \"/mnt/stdataengineeringmvp/bronze\" not in mounted_paths:\n",
    "    dbutils.fs.mount(\n",
    "        source=\"wasbs://bronze@stdataengineeringmvp.blob.core.windows.net\",\n",
    "        mount_point=\"/mnt/stdataengineeringmvp/bronze\",\n",
    "        extra_configs={\"fs.azure.account.key.stdataengineeringmvp.blob.core.windows.net\": \"[key-storage-account]\"}\n",
    "    )\n",
    "else:\n",
    "    print(\"O ponto de montagem BRONZE já existe.\")"
   ]
  },
  {
   "cell_type": "code",
   "execution_count": 0,
   "metadata": {
    "application/vnd.databricks.v1+cell": {
     "cellMetadata": {
      "byteLimit": 2048000,
      "rowLimit": 10000
     },
     "inputWidgets": {},
     "nuid": "79b9cac4-7124-4867-937a-227398b51b9d",
     "showTitle": false,
     "title": ""
    }
   },
   "outputs": [
    {
     "output_type": "stream",
     "name": "stdout",
     "output_type": "stream",
     "text": [
      "O ponto de montagem SILVER já existe.\n"
     ]
    }
   ],
   "source": [
    "# Montar o caminho para o contêiner silver na Azure\n",
    "mounts = dbutils.fs.mounts()\n",
    "mounted_paths = [mount.mountPoint for mount in mounts]\n",
    "\n",
    "if \"/mnt/stdataengineeringmvp/silver\" not in mounted_paths:\n",
    "    dbutils.fs.mount(\n",
    "        source=\"wasbs://silver@stdataengineeringmvp.blob.core.windows.net\",\n",
    "        mount_point=\"/mnt/stdataengineeringmvp/silver\",\n",
    "        extra_configs={\"fs.azure.account.key.stdataengineeringmvp.blob.core.windows.net\": \"key-storage-account\"}\n",
    "    )\n",
    "else:\n",
    "    print(\"O ponto de montagem SILVER já existe.\")"
   ]
  },
  {
   "cell_type": "code",
   "execution_count": 0,
   "metadata": {
    "application/vnd.databricks.v1+cell": {
     "cellMetadata": {
      "byteLimit": 2048000,
      "rowLimit": 10000
     },
     "inputWidgets": {},
     "nuid": "3b6d25c0-28d8-44ca-9ea7-38f4397b1ac0",
     "showTitle": false,
     "title": ""
    }
   },
   "outputs": [
    {
     "output_type": "stream",
     "name": "stdout",
     "output_type": "stream",
     "text": [
      "O ponto de montagem GOLD já existe.\n"
     ]
    }
   ],
   "source": [
    "# Montar o caminho para o contêiner ouro na Azure\n",
    "mounts = dbutils.fs.mounts()\n",
    "mounted_paths = [mount.mountPoint for mount in mounts]\n",
    "\n",
    "if \"/mnt/stdataengineeringmvp/gold\" not in mounted_paths:\n",
    "    dbutils.fs.mount(\n",
    "        source=\"wasbs://gold@stdataengineeringmvp.blob.core.windows.net\",\n",
    "        mount_point=\"/mnt/stdataengineeringmvp/gold\",\n",
    "        extra_configs={\"fs.azure.account.key.stdataengineeringmvp.blob.core.windows.net\": \"key-storage-account\"}\n",
    "    )\n",
    "else:\n",
    "    print(\"O ponto de montagem GOLD já existe.\")"
   ]
  },
  {
   "cell_type": "markdown",
   "metadata": {
    "application/vnd.databricks.v1+cell": {
     "cellMetadata": {},
     "inputWidgets": {},
     "nuid": "cd46c31f-c9a2-4e16-bf89-f3e18db71a19",
     "showTitle": false,
     "title": ""
    }
   },
   "source": [
    "# Preparando a Camada Bronze"
   ]
  },
  {
   "cell_type": "code",
   "execution_count": 0,
   "metadata": {
    "application/vnd.databricks.v1+cell": {
     "cellMetadata": {
      "byteLimit": 2048000,
      "rowLimit": 10000
     },
     "inputWidgets": {},
     "nuid": "b8bffc0e-22bc-4197-a465-8f39b496b92e",
     "showTitle": false,
     "title": ""
    }
   },
   "outputs": [],
   "source": [
    "# Carregando o arquivo do ENEM em um dataframe para iniciar o trabalho de análise da base, incluindo suporte para palavras com acentos\n",
    "bronze_df_enem = spark.read.format('csv').options(header='true', infer_schema='true', delimiter=';', encoding='ISO-8859-1').load(\"dbfs:/mnt/stdataengineeringmvp/bronze/MICRODADOS_ENEM_2023.csv\")"
   ]
  },
  {
   "cell_type": "code",
   "execution_count": 0,
   "metadata": {
    "application/vnd.databricks.v1+cell": {
     "cellMetadata": {
      "byteLimit": 2048000,
      "rowLimit": 10000
     },
     "inputWidgets": {},
     "nuid": "a28e7ca0-97af-4a77-8b1f-9ff7f21b49ea",
     "showTitle": false,
     "title": ""
    }
   },
   "outputs": [
    {
     "output_type": "display_data",
     "data": {
      "text/plain": [
       "3933955"
      ]
     },
     "metadata": {},
     "output_type": "display_data"
    },
    {
     "output_type": "display_data",
     "data": {
      "text/plain": [
       "76"
      ]
     },
     "metadata": {},
     "output_type": "display_data"
    }
   ],
   "source": [
    "# Exibe a quantidade de linhas e colunas do dataframe ENEM\n",
    "display(bronze_df_enem.count(), len(bronze_df_enem.columns))"
   ]
  },
  {
   "cell_type": "code",
   "execution_count": 0,
   "metadata": {
    "application/vnd.databricks.v1+cell": {
     "cellMetadata": {
      "byteLimit": 2048000,
      "rowLimit": 10000
     },
     "inputWidgets": {},
     "nuid": "99ef21bf-1771-4ed8-88cf-413e3cb0740a",
     "showTitle": false,
     "title": ""
    }
   },
   "outputs": [],
   "source": [
    "# Criando o arquivo parquet para montagem da camada BRONZE\n",
    "bronze_df_enem.write.format('delta').mode('overwrite').save('/mnt/stdataengineeringmvp/bronze/microdados_enem_2023_bronze')"
   ]
  },
  {
   "cell_type": "code",
   "execution_count": 0,
   "metadata": {
    "application/vnd.databricks.v1+cell": {
     "cellMetadata": {
      "byteLimit": 2048000,
      "rowLimit": 10000
     },
     "inputWidgets": {},
     "nuid": "0684735d-0cc4-4822-bcb6-816464083abf",
     "showTitle": false,
     "title": ""
    }
   },
   "outputs": [
    {
     "output_type": "execute_result",
     "data": {
      "text/plain": [
       "DataFrame[num_affected_rows: bigint, num_inserted_rows: bigint]"
      ]
     },
     "execution_count": 44,
     "metadata": {},
     "output_type": "execute_result"
    }
   ],
   "source": [
    "# Cria o banco de dados se não existir\n",
    "spark.sql('CREATE DATABASE IF NOT EXISTS BD_Microdados_Enem')\n",
    "\n",
    "# Indicando o banco que deve ser usado para criação da tabela\n",
    "spark.sql('USE DATABASE BD_Microdados_Enem')\n",
    "\n",
    "# Criando a tabela e populando com os dados do arquivo delta da camada silver\n",
    "spark.sql('''\n",
    "CREATE TABLE IF NOT EXISTS BD_Microdados_Enem.tb_enem_bronze\n",
    "AS SELECT * FROM delta.`/mnt/stdataengineeringmvp/bronze/microdados_enem_2023_bronze`\n",
    "''')"
   ]
  },
  {
   "cell_type": "markdown",
   "metadata": {
    "application/vnd.databricks.v1+cell": {
     "cellMetadata": {},
     "inputWidgets": {},
     "nuid": "1a55f9d3-cd75-4baf-9c24-47e48021ddfd",
     "showTitle": false,
     "title": ""
    }
   },
   "source": [
    "# Preparando a Camada Silver\n"
   ]
  },
  {
   "cell_type": "code",
   "execution_count": 0,
   "metadata": {
    "application/vnd.databricks.v1+cell": {
     "cellMetadata": {
      "byteLimit": 2048000,
      "rowLimit": 10000
     },
     "inputWidgets": {},
     "nuid": "1cf949f1-bfca-4646-ac18-463aa05af7dc",
     "showTitle": false,
     "title": ""
    }
   },
   "outputs": [
    {
     "output_type": "execute_result",
     "data": {
      "text/plain": [
       "[('NU_INSCRICAO', 'string'),\n",
       " ('NU_ANO', 'string'),\n",
       " ('TP_FAIXA_ETARIA', 'string'),\n",
       " ('TP_SEXO', 'string'),\n",
       " ('TP_ESTADO_CIVIL', 'string'),\n",
       " ('TP_COR_RACA', 'string'),\n",
       " ('TP_NACIONALIDADE', 'string'),\n",
       " ('TP_ST_CONCLUSAO', 'string'),\n",
       " ('TP_ANO_CONCLUIU', 'string'),\n",
       " ('TP_ESCOLA', 'string'),\n",
       " ('TP_ENSINO', 'string'),\n",
       " ('IN_TREINEIRO', 'string'),\n",
       " ('CO_MUNICIPIO_ESC', 'string'),\n",
       " ('NO_MUNICIPIO_ESC', 'string'),\n",
       " ('CO_UF_ESC', 'string'),\n",
       " ('SG_UF_ESC', 'string'),\n",
       " ('TP_DEPENDENCIA_ADM_ESC', 'string'),\n",
       " ('TP_LOCALIZACAO_ESC', 'string'),\n",
       " ('TP_SIT_FUNC_ESC', 'string'),\n",
       " ('CO_MUNICIPIO_PROVA', 'string'),\n",
       " ('NO_MUNICIPIO_PROVA', 'string'),\n",
       " ('CO_UF_PROVA', 'string'),\n",
       " ('SG_UF_PROVA', 'string'),\n",
       " ('TP_PRESENCA_CN', 'string'),\n",
       " ('TP_PRESENCA_CH', 'string'),\n",
       " ('TP_PRESENCA_LC', 'string'),\n",
       " ('TP_PRESENCA_MT', 'string'),\n",
       " ('CO_PROVA_CN', 'string'),\n",
       " ('CO_PROVA_CH', 'string'),\n",
       " ('CO_PROVA_LC', 'string'),\n",
       " ('CO_PROVA_MT', 'string'),\n",
       " ('NU_NOTA_CN', 'string'),\n",
       " ('NU_NOTA_CH', 'string'),\n",
       " ('NU_NOTA_LC', 'string'),\n",
       " ('NU_NOTA_MT', 'string'),\n",
       " ('TX_RESPOSTAS_CN', 'string'),\n",
       " ('TX_RESPOSTAS_CH', 'string'),\n",
       " ('TX_RESPOSTAS_LC', 'string'),\n",
       " ('TX_RESPOSTAS_MT', 'string'),\n",
       " ('TP_LINGUA', 'string'),\n",
       " ('TX_GABARITO_CN', 'string'),\n",
       " ('TX_GABARITO_CH', 'string'),\n",
       " ('TX_GABARITO_LC', 'string'),\n",
       " ('TX_GABARITO_MT', 'string'),\n",
       " ('TP_STATUS_REDACAO', 'string'),\n",
       " ('NU_NOTA_COMP1', 'string'),\n",
       " ('NU_NOTA_COMP2', 'string'),\n",
       " ('NU_NOTA_COMP3', 'string'),\n",
       " ('NU_NOTA_COMP4', 'string'),\n",
       " ('NU_NOTA_COMP5', 'string'),\n",
       " ('NU_NOTA_REDACAO', 'string'),\n",
       " ('Q001', 'string'),\n",
       " ('Q002', 'string'),\n",
       " ('Q003', 'string'),\n",
       " ('Q004', 'string'),\n",
       " ('Q005', 'string'),\n",
       " ('Q006', 'string'),\n",
       " ('Q007', 'string'),\n",
       " ('Q008', 'string'),\n",
       " ('Q009', 'string'),\n",
       " ('Q010', 'string'),\n",
       " ('Q011', 'string'),\n",
       " ('Q012', 'string'),\n",
       " ('Q013', 'string'),\n",
       " ('Q014', 'string'),\n",
       " ('Q015', 'string'),\n",
       " ('Q016', 'string'),\n",
       " ('Q017', 'string'),\n",
       " ('Q018', 'string'),\n",
       " ('Q019', 'string'),\n",
       " ('Q020', 'string'),\n",
       " ('Q021', 'string'),\n",
       " ('Q022', 'string'),\n",
       " ('Q023', 'string'),\n",
       " ('Q024', 'string'),\n",
       " ('Q025', 'string')]"
      ]
     },
     "execution_count": 19,
     "metadata": {},
     "output_type": "execute_result"
    }
   ],
   "source": [
    "bronze_df_enem.dtypes"
   ]
  },
  {
   "cell_type": "code",
   "execution_count": 0,
   "metadata": {
    "application/vnd.databricks.v1+cell": {
     "cellMetadata": {
      "byteLimit": 2048000,
      "rowLimit": 10000
     },
     "inputWidgets": {},
     "nuid": "c2e6e9c1-1ffb-4dcf-a5ba-033c296a263d",
     "showTitle": false,
     "title": ""
    }
   },
   "outputs": [],
   "source": [
    "# Manter apenas os atributos que servirão para análise nesse MVP\n",
    "selected_columns_df_enem = bronze_df_enem.select(\"NU_INSCRICAO\", \"NU_ANO\", \"TP_FAIXA_ETARIA\", \"TP_SEXO\", \"TP_ESTADO_CIVIL\", \"TP_COR_RACA\", \"TP_NACIONALIDADE\", \"TP_ST_CONCLUSAO\", \"TP_ANO_CONCLUIU\", \"TP_ESCOLA\", \"TP_ENSINO\", \"IN_TREINEIRO\", \"SG_UF_ESC\", \"TP_LOCALIZACAO_ESC\", \"NO_MUNICIPIO_PROVA\", \"SG_UF_PROVA\", \"NU_NOTA_MT\", \"NU_NOTA_LC\", \"Q001\", \"Q002\", \"Q006\", \"Q022\", \"Q024\", \"Q025\")"
   ]
  },
  {
   "cell_type": "code",
   "execution_count": 0,
   "metadata": {
    "application/vnd.databricks.v1+cell": {
     "cellMetadata": {
      "byteLimit": 2048000,
      "rowLimit": 10000
     },
     "inputWidgets": {},
     "nuid": "01229d62-a69d-4ab5-9ef4-2ab42703b51d",
     "showTitle": false,
     "title": ""
    }
   },
   "outputs": [
    {
     "output_type": "display_data",
     "data": {
      "text/plain": [
       "3933955"
      ]
     },
     "metadata": {},
     "output_type": "display_data"
    },
    {
     "output_type": "display_data",
     "data": {
      "text/plain": [
       "24"
      ]
     },
     "metadata": {},
     "output_type": "display_data"
    }
   ],
   "source": [
    "display(selected_columns_df_enem.count(), len(selected_columns_df_enem.columns))"
   ]
  },
  {
   "cell_type": "code",
   "execution_count": 0,
   "metadata": {
    "application/vnd.databricks.v1+cell": {
     "cellMetadata": {
      "byteLimit": 2048000,
      "rowLimit": 10000
     },
     "inputWidgets": {},
     "nuid": "180460c6-d5c0-484e-9fee-98ce774b9a36",
     "showTitle": false,
     "title": ""
    }
   },
   "outputs": [
    {
     "output_type": "execute_result",
     "data": {
      "text/plain": [
       "[Row(NU_INSCRICAO='210059085136', NU_ANO='2023', TP_FAIXA_ETARIA='14', TP_SEXO='M', TP_ESTADO_CIVIL='2', TP_COR_RACA='1', TP_NACIONALIDADE='1', TP_ST_CONCLUSAO='1', TP_ANO_CONCLUIU='17', TP_ESCOLA='1', TP_ENSINO=None, IN_TREINEIRO='0', SG_UF_ESC=None, TP_LOCALIZACAO_ESC=None, NO_MUNICIPIO_PROVA='Brasília', SG_UF_PROVA='DF', NU_NOTA_MT=None, NU_NOTA_LC=None, Q001='A', Q002='F', Q006='F', Q022='B', Q024='A', Q025='B'),\n",
       " Row(NU_INSCRICAO='210059527735', NU_ANO='2023', TP_FAIXA_ETARIA='12', TP_SEXO='M', TP_ESTADO_CIVIL='2', TP_COR_RACA='1', TP_NACIONALIDADE='0', TP_ST_CONCLUSAO='1', TP_ANO_CONCLUIU='16', TP_ESCOLA='1', TP_ENSINO=None, IN_TREINEIRO='0', SG_UF_ESC=None, TP_LOCALIZACAO_ESC=None, NO_MUNICIPIO_PROVA='Brasília', SG_UF_PROVA='DF', NU_NOTA_MT=None, NU_NOTA_LC=None, Q001='F', Q002='E', Q006='H', Q022='C', Q024='D', Q025='B')]"
      ]
     },
     "execution_count": 45,
     "metadata": {},
     "output_type": "execute_result"
    }
   ],
   "source": [
    "# Exibindo as primeiras linhas do dataframe para visualizar os dados\n",
    "selected_columns_df_enem.head(n=2)"
   ]
  },
  {
   "cell_type": "code",
   "execution_count": 0,
   "metadata": {
    "application/vnd.databricks.v1+cell": {
     "cellMetadata": {
      "byteLimit": 2048000,
      "rowLimit": 10000
     },
     "inputWidgets": {},
     "nuid": "dde97831-6416-4b70-9941-2d2ffed66670",
     "showTitle": false,
     "title": ""
    }
   },
   "outputs": [
    {
     "output_type": "display_data",
     "data": {
      "text/html": [
       "<style scoped>\n",
       "  .table-result-container {\n",
       "    max-height: 300px;\n",
       "    overflow: auto;\n",
       "  }\n",
       "  table, th, td {\n",
       "    border: 1px solid black;\n",
       "    border-collapse: collapse;\n",
       "  }\n",
       "  th, td {\n",
       "    padding: 5px;\n",
       "  }\n",
       "  th {\n",
       "    text-align: left;\n",
       "  }\n",
       "</style><div class='table-result-container'><table class='table-result'><thead style='background-color: white'><tr><th>NU_INSCRICAO</th><th>NU_ANO</th><th>TP_FAIXA_ETARIA</th><th>TP_SEXO</th><th>TP_ESTADO_CIVIL</th><th>TP_COR_RACA</th><th>TP_NACIONALIDADE</th><th>TP_ST_CONCLUSAO</th><th>TP_ANO_CONCLUIU</th><th>TP_ESCOLA</th><th>TP_ENSINO</th><th>IN_TREINEIRO</th><th>SG_UF_ESC</th><th>TP_LOCALIZACAO_ESC</th><th>NO_MUNICIPIO_PROVA</th><th>SG_UF_PROVA</th><th>NU_NOTA_MT</th><th>NU_NOTA_LC</th><th>Q001</th><th>Q002</th><th>Q006</th><th>Q022</th><th>Q024</th><th>Q025</th></tr></thead><tbody><tr><td>0</td><td>0</td><td>0</td><td>0</td><td>0</td><td>0</td><td>0</td><td>0</td><td>0</td><td>0</td><td>2594874</td><td>0</td><td>2975449</td><td>2975449</td><td>0</td><td>0</td><td>1241528</td><td>1111312</td><td>0</td><td>0</td><td>0</td><td>0</td><td>0</td><td>0</td></tr></tbody></table></div>"
      ]
     },
     "metadata": {
      "application/vnd.databricks.v1+output": {
       "addedWidgets": {},
       "aggData": [],
       "aggError": "",
       "aggOverflow": false,
       "aggSchema": [],
       "aggSeriesLimitReached": false,
       "aggType": "",
       "arguments": {},
       "columnCustomDisplayInfos": {},
       "data": [
        [
         0,
         0,
         0,
         0,
         0,
         0,
         0,
         0,
         0,
         0,
         2594874,
         0,
         2975449,
         2975449,
         0,
         0,
         1241528,
         1111312,
         0,
         0,
         0,
         0,
         0,
         0
        ]
       ],
       "datasetInfos": [],
       "dbfsResultPath": null,
       "isJsonSchema": true,
       "metadata": {},
       "overflow": false,
       "plotOptions": {
        "customPlotOptions": {},
        "displayType": "table",
        "pivotAggregation": null,
        "pivotColumns": null,
        "xColumns": null,
        "yColumns": null
       },
       "removedWidgets": [],
       "schema": [
        {
         "metadata": "{}",
         "name": "NU_INSCRICAO",
         "type": "\"long\""
        },
        {
         "metadata": "{}",
         "name": "NU_ANO",
         "type": "\"long\""
        },
        {
         "metadata": "{}",
         "name": "TP_FAIXA_ETARIA",
         "type": "\"long\""
        },
        {
         "metadata": "{}",
         "name": "TP_SEXO",
         "type": "\"long\""
        },
        {
         "metadata": "{}",
         "name": "TP_ESTADO_CIVIL",
         "type": "\"long\""
        },
        {
         "metadata": "{}",
         "name": "TP_COR_RACA",
         "type": "\"long\""
        },
        {
         "metadata": "{}",
         "name": "TP_NACIONALIDADE",
         "type": "\"long\""
        },
        {
         "metadata": "{}",
         "name": "TP_ST_CONCLUSAO",
         "type": "\"long\""
        },
        {
         "metadata": "{}",
         "name": "TP_ANO_CONCLUIU",
         "type": "\"long\""
        },
        {
         "metadata": "{}",
         "name": "TP_ESCOLA",
         "type": "\"long\""
        },
        {
         "metadata": "{}",
         "name": "TP_ENSINO",
         "type": "\"long\""
        },
        {
         "metadata": "{}",
         "name": "IN_TREINEIRO",
         "type": "\"long\""
        },
        {
         "metadata": "{}",
         "name": "SG_UF_ESC",
         "type": "\"long\""
        },
        {
         "metadata": "{}",
         "name": "TP_LOCALIZACAO_ESC",
         "type": "\"long\""
        },
        {
         "metadata": "{}",
         "name": "NO_MUNICIPIO_PROVA",
         "type": "\"long\""
        },
        {
         "metadata": "{}",
         "name": "SG_UF_PROVA",
         "type": "\"long\""
        },
        {
         "metadata": "{}",
         "name": "NU_NOTA_MT",
         "type": "\"long\""
        },
        {
         "metadata": "{}",
         "name": "NU_NOTA_LC",
         "type": "\"long\""
        },
        {
         "metadata": "{}",
         "name": "Q001",
         "type": "\"long\""
        },
        {
         "metadata": "{}",
         "name": "Q002",
         "type": "\"long\""
        },
        {
         "metadata": "{}",
         "name": "Q006",
         "type": "\"long\""
        },
        {
         "metadata": "{}",
         "name": "Q022",
         "type": "\"long\""
        },
        {
         "metadata": "{}",
         "name": "Q024",
         "type": "\"long\""
        },
        {
         "metadata": "{}",
         "name": "Q025",
         "type": "\"long\""
        }
       ],
       "type": "table"
      }
     },
     "output_type": "display_data"
    }
   ],
   "source": [
    "# Checando os valores nulos\n",
    "display(selected_columns_df_enem.select([F.count(F.when(F.isnull(c), c)).alias(c) for c in selected_columns_df_enem.columns]))"
   ]
  },
  {
   "cell_type": "code",
   "execution_count": 0,
   "metadata": {
    "application/vnd.databricks.v1+cell": {
     "cellMetadata": {
      "byteLimit": 2048000,
      "rowLimit": 10000
     },
     "inputWidgets": {},
     "nuid": "0e7c9bed-fa5e-491c-bf57-ddc5f054166b",
     "showTitle": false,
     "title": ""
    }
   },
   "outputs": [],
   "source": [
    "# Como um dos objetivos é identificar se as notas sofrem influência dos fatores socioeconômicos,\n",
    "# serão mantidos apenas registros com ambas as notas preenchidas (matemática e língua).\n",
    "# Além disso, foram excluídos registros nulos que identificam a região da escola do aluno.\n",
    "filtered_df_enem = selected_columns_df_enem.filter(\"NU_NOTA_LC IS NOT NULL AND NU_NOTA_MT IS NOT NULL AND SG_UF_ESC IS NOT NULL AND TP_ENSINO IS NOT NULL\")\n",
    "#display(filtered_df_enem)\n"
   ]
  },
  {
   "cell_type": "code",
   "execution_count": 0,
   "metadata": {
    "application/vnd.databricks.v1+cell": {
     "cellMetadata": {
      "byteLimit": 2048000,
      "rowLimit": 10000
     },
     "inputWidgets": {},
     "nuid": "6e027c69-14bd-4c90-97e1-4d70fdb30119",
     "showTitle": false,
     "title": ""
    }
   },
   "outputs": [],
   "source": [
    "# Convertendo a tipagem de alguns atributos\n",
    "filtered_df_enem = filtered_df_enem.withColumn(\"NU_INSCRICAO\", col(\"NU_INSCRICAO\").cast(\"bigint\")) \\\n",
    "                                   .withColumn(\"NU_ANO\", col(\"NU_ANO\").cast(\"integer\")) \\\n",
    "                                   .withColumn(\"TP_FAIXA_ETARIA\", col(\"TP_FAIXA_ETARIA\").cast(\"integer\")) \\\n",
    "                                   .withColumn(\"TP_ENSINO\", col(\"TP_ENSINO\").cast(\"integer\")) \\\n",
    "                                   .withColumn(\"NU_NOTA_LC\", col(\"NU_NOTA_LC\").cast(\"integer\")) \\\n",
    "                                   .withColumn(\"NU_NOTA_MT\", col(\"NU_NOTA_MT\").cast(\"integer\")) \\\n",
    "                                   .withColumn(\"TP_ESTADO_CIVIL\", col(\"TP_ESTADO_CIVIL\").cast(\"integer\")) \\\n",
    "                                   .withColumn(\"TP_COR_RACA\", col(\"TP_COR_RACA\").cast(\"integer\")) \\\n",
    "                                   .withColumn(\"TP_NACIONALIDADE\", col(\"TP_NACIONALIDADE\").cast(\"integer\")) \\\n",
    "                                   .withColumn(\"TP_ST_CONCLUSAO\", col(\"TP_ST_CONCLUSAO\").cast(\"integer\")) \\\n",
    "                                   .withColumn(\"TP_ANO_CONCLUIU\", col(\"TP_ANO_CONCLUIU\").cast(\"integer\")) \\\n",
    "                                   .withColumn(\"TP_ESCOLA\", col(\"TP_ESCOLA\").cast(\"integer\")) \\\n",
    "                                   .withColumn(\"TP_LOCALIZACAO_ESC\", col(\"TP_LOCALIZACAO_ESC\").cast(\"integer\")) \\\n",
    "                                   .withColumn(\"IN_TREINEIRO\", col(\"IN_TREINEIRO\").cast(\"integer\"))    "
   ]
  },
  {
   "cell_type": "code",
   "execution_count": 0,
   "metadata": {
    "application/vnd.databricks.v1+cell": {
     "cellMetadata": {
      "byteLimit": 2048000,
      "rowLimit": 10000
     },
     "inputWidgets": {},
     "nuid": "9651e2d3-2dd5-4790-a7b7-cd9c3572eb6a",
     "showTitle": false,
     "title": ""
    }
   },
   "outputs": [],
   "source": [
    "# Criando o arquivo parquet para montagem da camada SILVER\n",
    "df_enem_silver = filtered_df_enem\n",
    "df_enem_silver.write.format('delta').mode('overwrite').save('/mnt/stdataengineeringmvp/silver/microdados_enem_2023_silver')"
   ]
  },
  {
   "cell_type": "markdown",
   "metadata": {
    "application/vnd.databricks.v1+cell": {
     "cellMetadata": {},
     "inputWidgets": {},
     "nuid": "b6536ce1-b96c-4e9f-8d17-3de4d171cfaa",
     "showTitle": false,
     "title": ""
    }
   },
   "source": [
    "# Criando o Banco de Dados\n"
   ]
  },
  {
   "cell_type": "code",
   "execution_count": 0,
   "metadata": {
    "application/vnd.databricks.v1+cell": {
     "cellMetadata": {
      "byteLimit": 2048000,
      "rowLimit": 10000
     },
     "inputWidgets": {},
     "nuid": "04126488-ce68-4174-b9e0-32213f286ca1",
     "showTitle": false,
     "title": ""
    }
   },
   "outputs": [
    {
     "output_type": "execute_result",
     "data": {
      "text/plain": [
       "DataFrame[]"
      ]
     },
     "execution_count": 50,
     "metadata": {},
     "output_type": "execute_result"
    }
   ],
   "source": [
    "\n",
    "spark.sql('CREATE DATABASE IF NOT EXISTS BD_Microdados_Enem')"
   ]
  },
  {
   "cell_type": "markdown",
   "metadata": {
    "application/vnd.databricks.v1+cell": {
     "cellMetadata": {},
     "inputWidgets": {},
     "nuid": "df14775a-219a-47ce-ac75-5a5af6ea2c3b",
     "showTitle": false,
     "title": ""
    }
   },
   "source": [
    "## Criando as Tabelas (silver)"
   ]
  },
  {
   "cell_type": "code",
   "execution_count": 0,
   "metadata": {
    "application/vnd.databricks.v1+cell": {
     "cellMetadata": {
      "byteLimit": 2048000,
      "rowLimit": 10000
     },
     "inputWidgets": {},
     "nuid": "5d5ff72b-a513-4fc0-a4c4-654be05230fa",
     "showTitle": false,
     "title": ""
    }
   },
   "outputs": [
    {
     "output_type": "execute_result",
     "data": {
      "text/plain": [
       "DataFrame[num_affected_rows: bigint, num_inserted_rows: bigint]"
      ]
     },
     "execution_count": 52,
     "metadata": {},
     "output_type": "execute_result"
    }
   ],
   "source": [
    "# Indicando o banco que deve ser usado para criação da tabela\n",
    "spark.sql('USE DATABASE BD_Microdados_Enem')\n",
    "\n",
    "# Criando a tabela e populando com os dados do arquivo delta da camada silver\n",
    "spark.sql('''\n",
    "CREATE TABLE IF NOT EXISTS BD_Microdados_Enem.tb_enem_silver\n",
    "AS SELECT * FROM delta.`/mnt/stdataengineeringmvp/silver/microdados_enem_2023_silver`\n",
    "''')"
   ]
  },
  {
   "cell_type": "markdown",
   "metadata": {
    "application/vnd.databricks.v1+cell": {
     "cellMetadata": {},
     "inputWidgets": {},
     "nuid": "8ef1df21-a531-4970-b320-a2232606c8bf",
     "showTitle": false,
     "title": ""
    }
   },
   "source": [
    "# Preparando a Camada Gold\n"
   ]
  },
  {
   "cell_type": "code",
   "execution_count": 0,
   "metadata": {
    "application/vnd.databricks.v1+cell": {
     "cellMetadata": {
      "byteLimit": 2048000,
      "rowLimit": 10000
     },
     "inputWidgets": {},
     "nuid": "e5bcaec5-bd0b-4aee-98be-b093db244bb6",
     "showTitle": false,
     "title": ""
    }
   },
   "outputs": [],
   "source": [
    "# Carregando um dataframe para alguns tratamentos finais para composição da camada GOLD\n",
    "df_pre_gold = spark.read.format(\"delta\").load(\"/mnt/stdataengineeringmvp/silver/microdados_enem_2023_silver\")"
   ]
  },
  {
   "cell_type": "code",
   "execution_count": 0,
   "metadata": {
    "application/vnd.databricks.v1+cell": {
     "cellMetadata": {
      "byteLimit": 2048000,
      "rowLimit": 10000
     },
     "inputWidgets": {},
     "nuid": "b8850db8-7913-4b6f-b767-0a851d48a338",
     "showTitle": false,
     "title": ""
    }
   },
   "outputs": [
    {
     "output_type": "display_data",
     "data": {
      "text/html": [
       "<style scoped>\n",
       "  .table-result-container {\n",
       "    max-height: 300px;\n",
       "    overflow: auto;\n",
       "  }\n",
       "  table, th, td {\n",
       "    border: 1px solid black;\n",
       "    border-collapse: collapse;\n",
       "  }\n",
       "  th, td {\n",
       "    padding: 5px;\n",
       "  }\n",
       "  th {\n",
       "    text-align: left;\n",
       "  }\n",
       "</style><div class='table-result-container'><table class='table-result'><thead style='background-color: white'><tr><th>NU_INSCRICAO</th><th>NU_ANO</th><th>TP_FAIXA_ETARIA</th><th>TP_SEXO</th><th>TP_ESTADO_CIVIL</th><th>TP_COR_RACA</th><th>TP_NACIONALIDADE</th><th>TP_ST_CONCLUSAO</th><th>TP_ANO_CONCLUIU</th><th>TP_ESCOLA</th><th>TP_ENSINO</th><th>IN_TREINEIRO</th><th>SG_UF_ESC</th><th>TP_LOCALIZACAO_ESC</th><th>NO_MUNICIPIO_PROVA</th><th>SG_UF_PROVA</th><th>NU_NOTA_MT</th><th>NU_NOTA_LC</th><th>Q001</th><th>Q002</th><th>Q006</th><th>Q022</th><th>Q024</th><th>Q025</th></tr></thead><tbody><tr><td>210060214087</td><td>2023</td><td>2</td><td>F</td><td>1</td><td>3</td><td>1</td><td>2</td><td>0</td><td>2</td><td>1</td><td>0</td><td>CE</td><td>1</td><td>Fortaleza</td><td>CE</td><td>466</td><td>507</td><td>D</td><td>D</td><td>C</td><td>D</td><td>A</td><td>B</td></tr><tr><td>210059980948</td><td>2023</td><td>3</td><td>F</td><td>1</td><td>3</td><td>1</td><td>2</td><td>0</td><td>2</td><td>1</td><td>0</td><td>CE</td><td>1</td><td>Quixadá</td><td>CE</td><td>338</td><td>446</td><td>B</td><td>B</td><td>B</td><td>B</td><td>A</td><td>A</td></tr></tbody></table></div>"
      ]
     },
     "metadata": {
      "application/vnd.databricks.v1+output": {
       "addedWidgets": {},
       "aggData": [],
       "aggError": "",
       "aggOverflow": false,
       "aggSchema": [],
       "aggSeriesLimitReached": false,
       "aggType": "",
       "arguments": {},
       "columnCustomDisplayInfos": {},
       "data": [
        [
         210060214087,
         2023,
         2,
         "F",
         1,
         3,
         1,
         2,
         0,
         2,
         1,
         0,
         "CE",
         1,
         "Fortaleza",
         "CE",
         466,
         507,
         "D",
         "D",
         "C",
         "D",
         "A",
         "B"
        ],
        [
         210059980948,
         2023,
         3,
         "F",
         1,
         3,
         1,
         2,
         0,
         2,
         1,
         0,
         "CE",
         1,
         "Quixadá",
         "CE",
         338,
         446,
         "B",
         "B",
         "B",
         "B",
         "A",
         "A"
        ]
       ],
       "datasetInfos": [],
       "dbfsResultPath": null,
       "isJsonSchema": true,
       "metadata": {},
       "overflow": false,
       "plotOptions": {
        "customPlotOptions": {},
        "displayType": "table",
        "pivotAggregation": null,
        "pivotColumns": null,
        "xColumns": null,
        "yColumns": null
       },
       "removedWidgets": [],
       "schema": [
        {
         "metadata": "{}",
         "name": "NU_INSCRICAO",
         "type": "\"long\""
        },
        {
         "metadata": "{}",
         "name": "NU_ANO",
         "type": "\"long\""
        },
        {
         "metadata": "{}",
         "name": "TP_FAIXA_ETARIA",
         "type": "\"long\""
        },
        {
         "metadata": "{}",
         "name": "TP_SEXO",
         "type": "\"string\""
        },
        {
         "metadata": "{}",
         "name": "TP_ESTADO_CIVIL",
         "type": "\"long\""
        },
        {
         "metadata": "{}",
         "name": "TP_COR_RACA",
         "type": "\"long\""
        },
        {
         "metadata": "{}",
         "name": "TP_NACIONALIDADE",
         "type": "\"long\""
        },
        {
         "metadata": "{}",
         "name": "TP_ST_CONCLUSAO",
         "type": "\"long\""
        },
        {
         "metadata": "{}",
         "name": "TP_ANO_CONCLUIU",
         "type": "\"long\""
        },
        {
         "metadata": "{}",
         "name": "TP_ESCOLA",
         "type": "\"long\""
        },
        {
         "metadata": "{}",
         "name": "TP_ENSINO",
         "type": "\"long\""
        },
        {
         "metadata": "{}",
         "name": "IN_TREINEIRO",
         "type": "\"long\""
        },
        {
         "metadata": "{}",
         "name": "SG_UF_ESC",
         "type": "\"string\""
        },
        {
         "metadata": "{}",
         "name": "TP_LOCALIZACAO_ESC",
         "type": "\"long\""
        },
        {
         "metadata": "{}",
         "name": "NO_MUNICIPIO_PROVA",
         "type": "\"string\""
        },
        {
         "metadata": "{}",
         "name": "SG_UF_PROVA",
         "type": "\"string\""
        },
        {
         "metadata": "{}",
         "name": "NU_NOTA_MT",
         "type": "\"long\""
        },
        {
         "metadata": "{}",
         "name": "NU_NOTA_LC",
         "type": "\"long\""
        },
        {
         "metadata": "{}",
         "name": "Q001",
         "type": "\"string\""
        },
        {
         "metadata": "{}",
         "name": "Q002",
         "type": "\"string\""
        },
        {
         "metadata": "{}",
         "name": "Q006",
         "type": "\"string\""
        },
        {
         "metadata": "{}",
         "name": "Q022",
         "type": "\"string\""
        },
        {
         "metadata": "{}",
         "name": "Q024",
         "type": "\"string\""
        },
        {
         "metadata": "{}",
         "name": "Q025",
         "type": "\"string\""
        }
       ],
       "type": "table"
      }
     },
     "output_type": "display_data"
    }
   ],
   "source": [
    "display(df_pre_gold.head(n=2))"
   ]
  },
  {
   "cell_type": "code",
   "execution_count": 0,
   "metadata": {
    "application/vnd.databricks.v1+cell": {
     "cellMetadata": {
      "byteLimit": 2048000,
      "rowLimit": 10000
     },
     "inputWidgets": {},
     "nuid": "9118f557-1647-49ca-be38-1c4a964d2f7c",
     "showTitle": false,
     "title": ""
    }
   },
   "outputs": [
    {
     "output_type": "display_data",
     "data": {
      "text/html": [
       "<style scoped>\n",
       "  .table-result-container {\n",
       "    max-height: 300px;\n",
       "    overflow: auto;\n",
       "  }\n",
       "  table, th, td {\n",
       "    border: 1px solid black;\n",
       "    border-collapse: collapse;\n",
       "  }\n",
       "  th, td {\n",
       "    padding: 5px;\n",
       "  }\n",
       "  th {\n",
       "    text-align: left;\n",
       "  }\n",
       "</style><div class='table-result-container'><table class='table-result'><thead style='background-color: white'><tr><th>NU_INSCRICAO</th><th>NU_ANO</th><th>TP_FAIXA_ETARIA</th><th>TP_SEXO</th><th>TP_ESTADO_CIVIL</th><th>TP_COR_RACA</th><th>TP_NACIONALIDADE</th><th>TP_ST_CONCLUSAO</th><th>TP_ANO_CONCLUIU</th><th>TP_ESCOLA</th><th>TP_ENSINO</th><th>IN_TREINEIRO</th><th>SG_UF_ESC</th><th>TP_LOCALIZACAO_ESC</th><th>NO_MUNICIPIO_PROVA</th><th>SG_UF_PROVA</th><th>NU_NOTA_MT</th><th>NU_NOTA_LC</th><th>ESCOLARIDADE_PAI</th><th>ESCOLARIDADE_MAE</th><th>RENDA_FAMILIAR</th><th>TEM_CELULAR</th><th>TEM_COMPUTADOR</th><th>TEM_INTERNET</th></tr></thead><tbody><tr><td>210060214087</td><td>2023</td><td>2</td><td>F</td><td>1</td><td>3</td><td>1</td><td>2</td><td>0</td><td>2</td><td>1</td><td>0</td><td>CE</td><td>1</td><td>Fortaleza</td><td>CE</td><td>466</td><td>507</td><td>D</td><td>D</td><td>C</td><td>D</td><td>A</td><td>B</td></tr><tr><td>210059980948</td><td>2023</td><td>3</td><td>F</td><td>1</td><td>3</td><td>1</td><td>2</td><td>0</td><td>2</td><td>1</td><td>0</td><td>CE</td><td>1</td><td>Quixadá</td><td>CE</td><td>338</td><td>446</td><td>B</td><td>B</td><td>B</td><td>B</td><td>A</td><td>A</td></tr></tbody></table></div>"
      ]
     },
     "metadata": {
      "application/vnd.databricks.v1+output": {
       "addedWidgets": {},
       "aggData": [],
       "aggError": "",
       "aggOverflow": false,
       "aggSchema": [],
       "aggSeriesLimitReached": false,
       "aggType": "",
       "arguments": {},
       "columnCustomDisplayInfos": {},
       "data": [
        [
         210060214087,
         2023,
         2,
         "F",
         1,
         3,
         1,
         2,
         0,
         2,
         1,
         0,
         "CE",
         1,
         "Fortaleza",
         "CE",
         466,
         507,
         "D",
         "D",
         "C",
         "D",
         "A",
         "B"
        ],
        [
         210059980948,
         2023,
         3,
         "F",
         1,
         3,
         1,
         2,
         0,
         2,
         1,
         0,
         "CE",
         1,
         "Quixadá",
         "CE",
         338,
         446,
         "B",
         "B",
         "B",
         "B",
         "A",
         "A"
        ]
       ],
       "datasetInfos": [],
       "dbfsResultPath": null,
       "isJsonSchema": true,
       "metadata": {},
       "overflow": false,
       "plotOptions": {
        "customPlotOptions": {},
        "displayType": "table",
        "pivotAggregation": null,
        "pivotColumns": null,
        "xColumns": null,
        "yColumns": null
       },
       "removedWidgets": [],
       "schema": [
        {
         "metadata": "{}",
         "name": "NU_INSCRICAO",
         "type": "\"long\""
        },
        {
         "metadata": "{}",
         "name": "NU_ANO",
         "type": "\"long\""
        },
        {
         "metadata": "{}",
         "name": "TP_FAIXA_ETARIA",
         "type": "\"long\""
        },
        {
         "metadata": "{}",
         "name": "TP_SEXO",
         "type": "\"string\""
        },
        {
         "metadata": "{}",
         "name": "TP_ESTADO_CIVIL",
         "type": "\"long\""
        },
        {
         "metadata": "{}",
         "name": "TP_COR_RACA",
         "type": "\"long\""
        },
        {
         "metadata": "{}",
         "name": "TP_NACIONALIDADE",
         "type": "\"long\""
        },
        {
         "metadata": "{}",
         "name": "TP_ST_CONCLUSAO",
         "type": "\"long\""
        },
        {
         "metadata": "{}",
         "name": "TP_ANO_CONCLUIU",
         "type": "\"long\""
        },
        {
         "metadata": "{}",
         "name": "TP_ESCOLA",
         "type": "\"long\""
        },
        {
         "metadata": "{}",
         "name": "TP_ENSINO",
         "type": "\"long\""
        },
        {
         "metadata": "{}",
         "name": "IN_TREINEIRO",
         "type": "\"long\""
        },
        {
         "metadata": "{}",
         "name": "SG_UF_ESC",
         "type": "\"string\""
        },
        {
         "metadata": "{}",
         "name": "TP_LOCALIZACAO_ESC",
         "type": "\"long\""
        },
        {
         "metadata": "{}",
         "name": "NO_MUNICIPIO_PROVA",
         "type": "\"string\""
        },
        {
         "metadata": "{}",
         "name": "SG_UF_PROVA",
         "type": "\"string\""
        },
        {
         "metadata": "{}",
         "name": "NU_NOTA_MT",
         "type": "\"long\""
        },
        {
         "metadata": "{}",
         "name": "NU_NOTA_LC",
         "type": "\"long\""
        },
        {
         "metadata": "{}",
         "name": "ESCOLARIDADE_PAI",
         "type": "\"string\""
        },
        {
         "metadata": "{}",
         "name": "ESCOLARIDADE_MAE",
         "type": "\"string\""
        },
        {
         "metadata": "{}",
         "name": "RENDA_FAMILIAR",
         "type": "\"string\""
        },
        {
         "metadata": "{}",
         "name": "TEM_CELULAR",
         "type": "\"string\""
        },
        {
         "metadata": "{}",
         "name": "TEM_COMPUTADOR",
         "type": "\"string\""
        },
        {
         "metadata": "{}",
         "name": "TEM_INTERNET",
         "type": "\"string\""
        }
       ],
       "type": "table"
      }
     },
     "output_type": "display_data"
    }
   ],
   "source": [
    "# Renomear alguns atributos para facilitar a leitura e o entendimento\n",
    "df_pre_gold = df_pre_gold.withColumnRenamed(\"Q001\", \"ESCOLARIDADE_PAI\") \\\n",
    "                         .withColumnRenamed(\"Q002\", \"ESCOLARIDADE_MAE\") \\\n",
    "                         .withColumnRenamed(\"Q006\", \"RENDA_FAMILIAR\") \\\n",
    "                         .withColumnRenamed(\"Q022\", \"TEM_CELULAR\") \\\n",
    "                         .withColumnRenamed(\"Q024\", \"TEM_COMPUTADOR\") \\\n",
    "                         .withColumnRenamed(\"Q025\", \"TEM_INTERNET\")\n",
    "display(df_pre_gold.head(n=2))"
   ]
  },
  {
   "cell_type": "code",
   "execution_count": 0,
   "metadata": {
    "application/vnd.databricks.v1+cell": {
     "cellMetadata": {
      "byteLimit": 2048000,
      "rowLimit": 10000
     },
     "inputWidgets": {},
     "nuid": "c97d94cd-20cf-45c1-a096-24c099f3b786",
     "showTitle": false,
     "title": ""
    }
   },
   "outputs": [
    {
     "output_type": "display_data",
     "data": {
      "text/html": [
       "<style scoped>\n",
       "  .table-result-container {\n",
       "    max-height: 300px;\n",
       "    overflow: auto;\n",
       "  }\n",
       "  table, th, td {\n",
       "    border: 1px solid black;\n",
       "    border-collapse: collapse;\n",
       "  }\n",
       "  th, td {\n",
       "    padding: 5px;\n",
       "  }\n",
       "  th {\n",
       "    text-align: left;\n",
       "  }\n",
       "</style><div class='table-result-container'><table class='table-result'><thead style='background-color: white'><tr><th>NU_INSCRICAO</th><th>NU_ANO</th><th>TP_FAIXA_ETARIA</th><th>TP_SEXO</th><th>TP_ESTADO_CIVIL</th><th>TP_COR_RACA</th><th>TP_NACIONALIDADE</th><th>TP_ST_CONCLUSAO</th><th>TP_ANO_CONCLUIU</th><th>TP_ESCOLA</th><th>TP_ENSINO</th><th>IN_TREINEIRO</th><th>SG_UF_ESC</th><th>TP_LOCALIZACAO_ESC</th><th>NO_MUNICIPIO_PROVA</th><th>SG_UF_PROVA</th><th>NU_NOTA_MT</th><th>NU_NOTA_LC</th><th>ESCOLARIDADE_PAI</th><th>ESCOLARIDADE_MAE</th><th>RENDA_FAMILIAR</th><th>TEM_CELULAR</th><th>TEM_COMPUTADOR</th><th>TEM_INTERNET</th></tr></thead><tbody><tr><td>210060214087</td><td>2023</td><td>2</td><td>F</td><td>1</td><td>3</td><td>1</td><td>2</td><td>0</td><td>2</td><td>1</td><td>0</td><td>CE</td><td>1</td><td>Fortaleza</td><td>CE</td><td>466</td><td>507</td><td>D</td><td>D</td><td>C</td><td>B</td><td>A</td><td>B</td></tr><tr><td>210059980948</td><td>2023</td><td>3</td><td>F</td><td>1</td><td>3</td><td>1</td><td>2</td><td>0</td><td>2</td><td>1</td><td>0</td><td>CE</td><td>1</td><td>Quixadá</td><td>CE</td><td>338</td><td>446</td><td>B</td><td>B</td><td>B</td><td>B</td><td>A</td><td>A</td></tr></tbody></table></div>"
      ]
     },
     "metadata": {
      "application/vnd.databricks.v1+output": {
       "addedWidgets": {},
       "aggData": [],
       "aggError": "",
       "aggOverflow": false,
       "aggSchema": [],
       "aggSeriesLimitReached": false,
       "aggType": "",
       "arguments": {},
       "columnCustomDisplayInfos": {},
       "data": [
        [
         210060214087,
         2023,
         2,
         "F",
         1,
         3,
         1,
         2,
         0,
         2,
         1,
         0,
         "CE",
         1,
         "Fortaleza",
         "CE",
         466,
         507,
         "D",
         "D",
         "C",
         "B",
         "A",
         "B"
        ],
        [
         210059980948,
         2023,
         3,
         "F",
         1,
         3,
         1,
         2,
         0,
         2,
         1,
         0,
         "CE",
         1,
         "Quixadá",
         "CE",
         338,
         446,
         "B",
         "B",
         "B",
         "B",
         "A",
         "A"
        ]
       ],
       "datasetInfos": [],
       "dbfsResultPath": null,
       "isJsonSchema": true,
       "metadata": {},
       "overflow": false,
       "plotOptions": {
        "customPlotOptions": {},
        "displayType": "table",
        "pivotAggregation": null,
        "pivotColumns": null,
        "xColumns": null,
        "yColumns": null
       },
       "removedWidgets": [],
       "schema": [
        {
         "metadata": "{}",
         "name": "NU_INSCRICAO",
         "type": "\"long\""
        },
        {
         "metadata": "{}",
         "name": "NU_ANO",
         "type": "\"long\""
        },
        {
         "metadata": "{}",
         "name": "TP_FAIXA_ETARIA",
         "type": "\"long\""
        },
        {
         "metadata": "{}",
         "name": "TP_SEXO",
         "type": "\"string\""
        },
        {
         "metadata": "{}",
         "name": "TP_ESTADO_CIVIL",
         "type": "\"long\""
        },
        {
         "metadata": "{}",
         "name": "TP_COR_RACA",
         "type": "\"long\""
        },
        {
         "metadata": "{}",
         "name": "TP_NACIONALIDADE",
         "type": "\"long\""
        },
        {
         "metadata": "{}",
         "name": "TP_ST_CONCLUSAO",
         "type": "\"long\""
        },
        {
         "metadata": "{}",
         "name": "TP_ANO_CONCLUIU",
         "type": "\"long\""
        },
        {
         "metadata": "{}",
         "name": "TP_ESCOLA",
         "type": "\"long\""
        },
        {
         "metadata": "{}",
         "name": "TP_ENSINO",
         "type": "\"long\""
        },
        {
         "metadata": "{}",
         "name": "IN_TREINEIRO",
         "type": "\"long\""
        },
        {
         "metadata": "{}",
         "name": "SG_UF_ESC",
         "type": "\"string\""
        },
        {
         "metadata": "{}",
         "name": "TP_LOCALIZACAO_ESC",
         "type": "\"long\""
        },
        {
         "metadata": "{}",
         "name": "NO_MUNICIPIO_PROVA",
         "type": "\"string\""
        },
        {
         "metadata": "{}",
         "name": "SG_UF_PROVA",
         "type": "\"string\""
        },
        {
         "metadata": "{}",
         "name": "NU_NOTA_MT",
         "type": "\"long\""
        },
        {
         "metadata": "{}",
         "name": "NU_NOTA_LC",
         "type": "\"long\""
        },
        {
         "metadata": "{}",
         "name": "ESCOLARIDADE_PAI",
         "type": "\"string\""
        },
        {
         "metadata": "{}",
         "name": "ESCOLARIDADE_MAE",
         "type": "\"string\""
        },
        {
         "metadata": "{}",
         "name": "RENDA_FAMILIAR",
         "type": "\"string\""
        },
        {
         "metadata": "{}",
         "name": "TEM_CELULAR",
         "type": "\"string\""
        },
        {
         "metadata": "{}",
         "name": "TEM_COMPUTADOR",
         "type": "\"string\""
        },
        {
         "metadata": "{}",
         "name": "TEM_INTERNET",
         "type": "\"string\""
        }
       ],
       "type": "table"
      }
     },
     "output_type": "display_data"
    }
   ],
   "source": [
    "# As colunas \"TEM_COMPUTADOR\" e \"TEM_CELULAR\" possuem 5 categorias cada: 1 não e 4 sim's. Para esse MVP, basta manter apenas 2 valores de categorias (A=Não, B=Sim) \n",
    "# Substitui todos os valores C, D e E por B\n",
    "df_pre_gold = df_pre_gold.withColumn(\"TEM_COMPUTADOR\", \n",
    "                                     when(df_pre_gold[\"TEM_COMPUTADOR\"].isin([\"C\", \"D\", \"E\"]), \"B\")\n",
    "                                     .otherwise(df_pre_gold[\"TEM_COMPUTADOR\"])) \\\n",
    "                        .withColumn(\"TEM_CELULAR\", \n",
    "                                     when(df_pre_gold[\"TEM_CELULAR\"].isin([\"C\", \"D\", \"E\"]), \"B\")\n",
    "                                     .otherwise(df_pre_gold[\"TEM_CELULAR\"]))\n",
    "\n",
    "display(df_pre_gold.head(n=2))"
   ]
  },
  {
   "cell_type": "code",
   "execution_count": 0,
   "metadata": {
    "application/vnd.databricks.v1+cell": {
     "cellMetadata": {
      "byteLimit": 2048000,
      "rowLimit": 10000
     },
     "inputWidgets": {},
     "nuid": "5bcee443-dd39-4a88-aa00-eadde4cdb876",
     "showTitle": false,
     "title": ""
    }
   },
   "outputs": [],
   "source": [
    "# Adicionar uma nova coluna para registrar a data da carga do dataset\n",
    "df_pre_gold = df_pre_gold.withColumn(\"DT_CARGA\", current_date())"
   ]
  },
  {
   "cell_type": "code",
   "execution_count": 0,
   "metadata": {
    "application/vnd.databricks.v1+cell": {
     "cellMetadata": {
      "byteLimit": 2048000,
      "rowLimit": 10000
     },
     "inputWidgets": {},
     "nuid": "4fab4783-0e54-4eac-b142-cff7f713bcad",
     "showTitle": false,
     "title": ""
    }
   },
   "outputs": [],
   "source": [
    "# Criar o arquivo DELTA particionado por alguns atributos para acelerar as queries\n",
    "# NU_ANO, TP_SEXO, TP_ESCOLA, SG_UF_ESC, SG_UF_PROVA\n",
    "df_pre_gold.write.format('delta').mode('overwrite').option('mergeSchema', 'true').partitionBy('NU_ANO', 'TP_SEXO', 'TP_ESCOLA', 'SG_UF_ESC', 'SG_UF_PROVA').save('/mnt/stdataengineeringmvp/gold/microdados_enem_2023_gold')"
   ]
  },
  {
   "cell_type": "markdown",
   "metadata": {
    "application/vnd.databricks.v1+cell": {
     "cellMetadata": {},
     "inputWidgets": {},
     "nuid": "d6b14322-95ef-4105-ad07-218819f5536c",
     "showTitle": false,
     "title": ""
    }
   },
   "source": [
    "## Criando as Tabelas (gold)"
   ]
  },
  {
   "cell_type": "code",
   "execution_count": 0,
   "metadata": {
    "application/vnd.databricks.v1+cell": {
     "cellMetadata": {
      "byteLimit": 2048000,
      "rowLimit": 10000
     },
     "inputWidgets": {},
     "nuid": "e8162174-284f-48dd-86af-b12a17a942e1",
     "showTitle": false,
     "title": ""
    }
   },
   "outputs": [
    {
     "output_type": "execute_result",
     "data": {
      "text/plain": [
       "DataFrame[num_affected_rows: bigint, num_inserted_rows: bigint]"
      ]
     },
     "execution_count": 67,
     "metadata": {},
     "output_type": "execute_result"
    }
   ],
   "source": [
    "# Indicando o banco que deve ser usado para criação da tabela\n",
    "spark.sql('USE DATABASE BD_Microdados_Enem')\n",
    "\n",
    "# Criando a tabela e populando com os dados do arquivo delta da camada gold\n",
    "spark.sql('''\n",
    "CREATE TABLE IF NOT EXISTS BD_Microdados_Enem.tb_enem_gold\n",
    "AS SELECT * FROM delta.`/mnt/stdataengineeringmvp/gold/microdados_enem_2023_gold`\n",
    "''')"
   ]
  },
  {
   "cell_type": "markdown",
   "metadata": {
    "application/vnd.databricks.v1+cell": {
     "cellMetadata": {},
     "inputWidgets": {},
     "nuid": "566632be-212d-48cb-9097-127200bd2573",
     "showTitle": false,
     "title": ""
    }
   },
   "source": [
    "### Executando as consultas para respostas ao objetivo\n"
   ]
  },
  {
   "cell_type": "markdown",
   "metadata": {
    "application/vnd.databricks.v1+cell": {
     "cellMetadata": {},
     "inputWidgets": {},
     "nuid": "60916d67-6816-4b7c-9624-19c22ce93c64",
     "showTitle": false,
     "title": ""
    }
   },
   "source": [
    "1. EXISTE RELAÇÃO DA UF COM A MÉDIA DAS NOTAS? "
   ]
  },
  {
   "cell_type": "code",
   "execution_count": 0,
   "metadata": {
    "application/vnd.databricks.v1+cell": {
     "cellMetadata": {
      "byteLimit": 2048000,
      "implicitDf": true,
      "rowLimit": 10000
     },
     "inputWidgets": {},
     "nuid": "99d14e5c-e1c5-4623-936d-ce2f52a28921",
     "showTitle": false,
     "title": ""
    }
   },
   "outputs": [
    {
     "output_type": "display_data",
     "data": {
      "text/html": [
       "<style scoped>\n",
       "  .table-result-container {\n",
       "    max-height: 300px;\n",
       "    overflow: auto;\n",
       "  }\n",
       "  table, th, td {\n",
       "    border: 1px solid black;\n",
       "    border-collapse: collapse;\n",
       "  }\n",
       "  th, td {\n",
       "    padding: 5px;\n",
       "  }\n",
       "  th {\n",
       "    text-align: left;\n",
       "  }\n",
       "</style><div class='table-result-container'><table class='table-result'><thead style='background-color: white'><tr><th>UF_ESCOLA</th><th>Media_LC</th><th>Media_MT</th></tr></thead><tbody><tr><td>RS</td><td>542.33</td><td>575.8</td></tr><tr><td>SP</td><td>541.22</td><td>577.72</td></tr><tr><td>MG</td><td>541.1</td><td>592.52</td></tr><tr><td>DF</td><td>540.22</td><td>565.17</td></tr><tr><td>SC</td><td>539.39</td><td>573.73</td></tr><tr><td>RJ</td><td>537.7</td><td>572.83</td></tr><tr><td>PR</td><td>532.24</td><td>558.46</td></tr><tr><td>ES</td><td>532.19</td><td>570.94</td></tr><tr><td>RN</td><td>528.45</td><td>555.84</td></tr><tr><td>MS</td><td>520.42</td><td>543.2</td></tr><tr><td>BA</td><td>519.46</td><td>542.61</td></tr><tr><td>RR</td><td>519.09</td><td>527.56</td></tr><tr><td>GO</td><td>518.58</td><td>543.64</td></tr><tr><td>MT</td><td>513.18</td><td>529.1</td></tr><tr><td>PE</td><td>512.86</td><td>540.83</td></tr><tr><td>PB</td><td>508.63</td><td>525.25</td></tr><tr><td>SE</td><td>508.37</td><td>525.28</td></tr><tr><td>AP</td><td>505.57</td><td>499.84</td></tr><tr><td>AC</td><td>505.25</td><td>503.69</td></tr><tr><td>PI</td><td>502.46</td><td>522.76</td></tr><tr><td>TO</td><td>500.5</td><td>511.08</td></tr><tr><td>PA</td><td>500.39</td><td>506.62</td></tr><tr><td>AL</td><td>499.85</td><td>517.2</td></tr><tr><td>RO</td><td>499.75</td><td>508.97</td></tr><tr><td>AM</td><td>493.68</td><td>488.25</td></tr><tr><td>CE</td><td>489.76</td><td>499.67</td></tr><tr><td>MA</td><td>485.84</td><td>487.55</td></tr></tbody></table></div>"
      ]
     },
     "metadata": {
      "application/vnd.databricks.v1+output": {
       "addedWidgets": {},
       "aggData": [],
       "aggError": "",
       "aggOverflow": false,
       "aggSchema": [],
       "aggSeriesLimitReached": false,
       "aggType": "",
       "arguments": {},
       "columnCustomDisplayInfos": {},
       "data": [
        [
         "RS",
         542.33,
         575.8
        ],
        [
         "SP",
         541.22,
         577.72
        ],
        [
         "MG",
         541.1,
         592.52
        ],
        [
         "DF",
         540.22,
         565.17
        ],
        [
         "SC",
         539.39,
         573.73
        ],
        [
         "RJ",
         537.7,
         572.83
        ],
        [
         "PR",
         532.24,
         558.46
        ],
        [
         "ES",
         532.19,
         570.94
        ],
        [
         "RN",
         528.45,
         555.84
        ],
        [
         "MS",
         520.42,
         543.2
        ],
        [
         "BA",
         519.46,
         542.61
        ],
        [
         "RR",
         519.09,
         527.56
        ],
        [
         "GO",
         518.58,
         543.64
        ],
        [
         "MT",
         513.18,
         529.1
        ],
        [
         "PE",
         512.86,
         540.83
        ],
        [
         "PB",
         508.63,
         525.25
        ],
        [
         "SE",
         508.37,
         525.28
        ],
        [
         "AP",
         505.57,
         499.84
        ],
        [
         "AC",
         505.25,
         503.69
        ],
        [
         "PI",
         502.46,
         522.76
        ],
        [
         "TO",
         500.5,
         511.08
        ],
        [
         "PA",
         500.39,
         506.62
        ],
        [
         "AL",
         499.85,
         517.2
        ],
        [
         "RO",
         499.75,
         508.97
        ],
        [
         "AM",
         493.68,
         488.25
        ],
        [
         "CE",
         489.76,
         499.67
        ],
        [
         "MA",
         485.84,
         487.55
        ]
       ],
       "datasetInfos": [],
       "dbfsResultPath": null,
       "isJsonSchema": true,
       "metadata": {
        "dataframeName": "_sqldf",
        "executionCount": 18
       },
       "overflow": false,
       "plotOptions": {
        "customPlotOptions": {},
        "displayType": "table",
        "pivotAggregation": null,
        "pivotColumns": null,
        "xColumns": null,
        "yColumns": null
       },
       "removedWidgets": [],
       "schema": [
        {
         "metadata": "{}",
         "name": "UF_ESCOLA",
         "type": "\"string\""
        },
        {
         "metadata": "{}",
         "name": "Media_LC",
         "type": "\"double\""
        },
        {
         "metadata": "{}",
         "name": "Media_MT",
         "type": "\"double\""
        }
       ],
       "type": "table"
      }
     },
     "output_type": "display_data"
    },
    {
     "output_type": "display_data",
     "data": {
      "text/plain": [
       "Databricks visualization. Run in Databricks to view."
      ]
     },
     "metadata": {
      "application/vnd.databricks.v1.subcommand+json": {
       "baseErrorDetails": null,
       "bindings": {},
       "collapsed": false,
       "command": "%sql WITH q AS (SELECT\n  SG_UF_ESC AS UF_ESCOLA\n  , round(avg(NU_NOTA_LC), 2) AS Media_LC\n  , round(avg(NU_NOTA_MT), 2) AS Media_MT\nFROM BD_Microdados_Enem.tb_enem_gold\nGROUP BY\n  SG_UF_ESC\nORDER BY Media_LC DESC) SELECT `UF_ESCOLA`,SUM(`Media_MT`) `column_3c5d375711`,SUM(`Media_LC`) `column_3c5d375714` FROM q GROUP BY `UF_ESCOLA`",
       "commandTitle": "Visualização 1",
       "commandType": "auto",
       "commandVersion": 0,
       "commentThread": [],
       "commentsVisible": false,
       "contentSha256Hex": null,
       "customPlotOptions": {
        "redashChart": [
         {
          "key": "type",
          "value": "CHART"
         },
         {
          "key": "options",
          "value": {
           "alignYAxesAtZero": true,
           "coefficient": 1,
           "columnConfigurationMap": {
            "x": {
             "column": "UF_ESCOLA",
             "id": "column_3c5d37579"
            },
            "y": [
             {
              "column": "Media_MT",
              "id": "column_3c5d375711",
              "transform": "SUM"
             },
             {
              "column": "Media_LC",
              "id": "column_3c5d375714",
              "transform": "SUM"
             }
            ]
           },
           "dateTimeFormat": "DD/MM/YYYY HH:mm",
           "direction": {
            "type": "counterclockwise"
           },
           "error_y": {
            "type": "data",
            "visible": true
           },
           "globalSeriesType": "column",
           "isAggregationOn": true,
           "legend": {
            "traceorder": "normal"
           },
           "missingValuesAsZero": true,
           "numBins": 10,
           "numberFormat": "0,0.[00000]",
           "percentFormat": "0[.]00%",
           "series": {
            "error_y": {
             "type": "data",
             "visible": true
            },
            "stacking": null
           },
           "seriesOptions": {
            "column_3c5d375711": {
             "type": "column",
             "yAxis": 0
            },
            "column_3c5d375714": {
             "type": "column",
             "yAxis": 0
            },
            "column_3c5d37572": {
             "name": "Media_MT",
             "type": "column",
             "yAxis": 0
            },
            "column_3c5d37577": {
             "type": "column",
             "yAxis": 0
            }
           },
           "showDataLabels": false,
           "sizemode": "diameter",
           "sortX": true,
           "sortY": true,
           "swappedAxes": false,
           "textFormat": "",
           "useAggregationsUi": true,
           "valuesOptions": {},
           "version": 2,
           "xAxis": {
            "labels": {
             "enabled": true
            },
            "type": "-"
           },
           "yAxis": [
            {
             "type": "-"
            },
            {
             "opposite": true,
             "type": "-"
            }
           ]
          }
         }
        ]
       },
       "datasetPreviewNameToCmdIdMap": {},
       "diffDeletes": [],
       "diffInserts": [],
       "displayType": "redashChart",
       "error": null,
       "errorDetails": null,
       "errorSummary": null,
       "errorTraceType": null,
       "finishTime": 0,
       "globalVars": {},
       "guid": "",
       "height": "auto",
       "hideCommandCode": false,
       "hideCommandResult": false,
       "iPythonMetadata": null,
       "inputWidgets": {},
       "isLockedInExamMode": false,
       "latestUser": "a user",
       "latestUserId": null,
       "listResultMetadata": null,
       "metadata": {},
       "nuid": "675ebbc0-2754-4d70-b710-27a4881c4157",
       "origId": 0,
       "parentHierarchy": [],
       "pivotAggregation": null,
       "pivotColumns": null,
       "position": 11.874733924865723,
       "resultDbfsErrorMessage": null,
       "resultDbfsStatus": "INLINED_IN_TREE",
       "results": null,
       "showCommandTitle": false,
       "startTime": 0,
       "state": "input",
       "streamStates": {},
       "subcommandOptions": {
        "queryPlan": {
         "groups": [
          {
           "column": "UF_ESCOLA",
           "type": "column"
          }
         ],
         "selects": [
          {
           "column": "UF_ESCOLA",
           "type": "column"
          },
          {
           "alias": "column_3c5d375711",
           "args": [
            {
             "column": "Media_MT",
             "type": "column"
            }
           ],
           "function": "SUM",
           "type": "function"
          },
          {
           "alias": "column_3c5d375714",
           "args": [
            {
             "column": "Media_LC",
             "type": "column"
            }
           ],
           "function": "SUM",
           "type": "function"
          }
         ]
        }
       },
       "submitTime": 0,
       "subtype": "tableResultSubCmd.visualization",
       "tableResultIndex": 0,
       "useConsistentColors": false,
       "version": "CommandV1",
       "width": "auto",
       "workflows": [],
       "xColumns": null,
       "yColumns": null
      }
     },
     "output_type": "display_data"
    }
   ],
   "source": [
    "%sql\n",
    "-- EXISTE VARIAÇÃO SIGNIFICANTE DO DESEMPENHO DAS NOTAS NOS DIFERENTES ESTADOS?\n",
    "SELECT\n",
    "  SG_UF_ESC AS UF_ESCOLA\n",
    "  , round(avg(NU_NOTA_LC), 2) AS Media_LC\n",
    "  , round(avg(NU_NOTA_MT), 2) AS Media_MT\n",
    "FROM BD_Microdados_Enem.tb_enem_gold\n",
    "GROUP BY\n",
    "  SG_UF_ESC\n",
    "ORDER BY Media_LC DESC"
   ]
  },
  {
   "cell_type": "code",
   "execution_count": 0,
   "metadata": {
    "application/vnd.databricks.v1+cell": {
     "cellMetadata": {
      "byteLimit": 2048000,
      "implicitDf": true,
      "rowLimit": 10000
     },
     "inputWidgets": {},
     "nuid": "84c149cc-797a-443e-8de3-aca6bf481402",
     "showTitle": false,
     "title": ""
    }
   },
   "outputs": [
    {
     "output_type": "display_data",
     "data": {
      "text/html": [
       "<style scoped>\n",
       "  .table-result-container {\n",
       "    max-height: 300px;\n",
       "    overflow: auto;\n",
       "  }\n",
       "  table, th, td {\n",
       "    border: 1px solid black;\n",
       "    border-collapse: collapse;\n",
       "  }\n",
       "  th, td {\n",
       "    padding: 5px;\n",
       "  }\n",
       "  th {\n",
       "    text-align: left;\n",
       "  }\n",
       "</style><div class='table-result-container'><table class='table-result'><thead style='background-color: white'><tr><th>ESCOLARIDADE_PAI</th><th>Media_LC</th><th>Media_MT</th></tr></thead><tbody><tr><td>Completou a Pós-graduação.</td><td>567.61</td><td>646.63</td></tr><tr><td>Completou a Faculdade, mas não completou a Pós-graduação.</td><td>558.27</td><td>622.82</td></tr><tr><td>Completou o Ensino Médio, mas não completou a Faculdade.</td><td>528.27</td><td>555.01</td></tr><tr><td>Completou a 8ª série/9º ano do Ensino Fundamental, mas não completou o Ensino Médio.</td><td>510.9</td><td>523.59</td></tr><tr><td>Completou a 4ª série/5º ano, mas não completou a 8ª série/9º ano do Ensino Fundamental.</td><td>503.92</td><td>511.11</td></tr><tr><td>Não sei.</td><td>497.8</td><td>498.69</td></tr><tr><td>Não completou a 4ª série/5º ano do Ensino Fundamental.</td><td>489.29</td><td>487.59</td></tr><tr><td>Nunca estudou.</td><td>471.86</td><td>461.58</td></tr></tbody></table></div>"
      ]
     },
     "metadata": {
      "application/vnd.databricks.v1+output": {
       "addedWidgets": {},
       "aggData": [],
       "aggError": "",
       "aggOverflow": false,
       "aggSchema": [],
       "aggSeriesLimitReached": false,
       "aggType": "",
       "arguments": {},
       "columnCustomDisplayInfos": {},
       "data": [
        [
         "Completou a Pós-graduação.",
         567.61,
         646.63
        ],
        [
         "Completou a Faculdade, mas não completou a Pós-graduação.",
         558.27,
         622.82
        ],
        [
         "Completou o Ensino Médio, mas não completou a Faculdade.",
         528.27,
         555.01
        ],
        [
         "Completou a 8ª série/9º ano do Ensino Fundamental, mas não completou o Ensino Médio.",
         510.9,
         523.59
        ],
        [
         "Completou a 4ª série/5º ano, mas não completou a 8ª série/9º ano do Ensino Fundamental.",
         503.92,
         511.11
        ],
        [
         "Não sei.",
         497.8,
         498.69
        ],
        [
         "Não completou a 4ª série/5º ano do Ensino Fundamental.",
         489.29,
         487.59
        ],
        [
         "Nunca estudou.",
         471.86,
         461.58
        ]
       ],
       "datasetInfos": [],
       "dbfsResultPath": null,
       "isJsonSchema": true,
       "metadata": {
        "dataframeName": "_sqldf",
        "executionCount": 33
       },
       "overflow": false,
       "plotOptions": {
        "customPlotOptions": {},
        "displayType": "table",
        "pivotAggregation": null,
        "pivotColumns": null,
        "xColumns": null,
        "yColumns": null
       },
       "removedWidgets": [],
       "schema": [
        {
         "metadata": "{}",
         "name": "ESCOLARIDADE_PAI",
         "type": "\"string\""
        },
        {
         "metadata": "{}",
         "name": "Media_LC",
         "type": "\"double\""
        },
        {
         "metadata": "{}",
         "name": "Media_MT",
         "type": "\"double\""
        }
       ],
       "type": "table"
      }
     },
     "output_type": "display_data"
    }
   ],
   "source": [
    "%sql\n",
    "-- EXISTE VARIAÇÃO SIGNIFICATIVA DO DESEMPENHO DO ALUNO COM A ESCOLARIDADE DO PAI?\n",
    "WITH ESCOLARIDADE_MEDIA AS (\n",
    "  SELECT \n",
    "    CASE\n",
    "      WHEN ESCOLARIDADE_PAI = 'A' THEN 'Nunca estudou.'\n",
    "      WHEN ESCOLARIDADE_PAI = 'B' THEN 'Não completou a 4ª série/5º ano do Ensino Fundamental.'\n",
    "      WHEN ESCOLARIDADE_PAI = 'C' THEN 'Completou a 4ª série/5º ano, mas não completou a 8ª série/9º ano do Ensino Fundamental.'\n",
    "      WHEN ESCOLARIDADE_PAI = 'D' THEN 'Completou a 8ª série/9º ano do Ensino Fundamental, mas não completou o Ensino Médio.'\n",
    "      WHEN ESCOLARIDADE_PAI = 'E' THEN 'Completou o Ensino Médio, mas não completou a Faculdade.'\n",
    "      WHEN ESCOLARIDADE_PAI = 'F' THEN 'Completou a Faculdade, mas não completou a Pós-graduação.'\n",
    "      WHEN ESCOLARIDADE_PAI = 'G' THEN 'Completou a Pós-graduação.'\n",
    "      WHEN ESCOLARIDADE_PAI = 'H' THEN 'Não sei.'\n",
    "    END AS ESCOLARIDADE_PAI\n",
    "\n",
    "    , round(avg(NU_NOTA_LC), 2) AS Media_LC\n",
    "    , round(avg(NU_NOTA_MT), 2) AS Media_MT\n",
    "  FROM BD_Microdados_Enem.tb_enem_gold\n",
    "  GROUP BY ESCOLARIDADE_PAI\n",
    ")\n",
    "\n",
    "SELECT *\n",
    "FROM ESCOLARIDADE_MEDIA\n",
    "ORDER BY Media_LC DESC\n",
    "\n"
   ]
  },
  {
   "cell_type": "code",
   "execution_count": 0,
   "metadata": {
    "application/vnd.databricks.v1+cell": {
     "cellMetadata": {
      "byteLimit": 2048000,
      "implicitDf": true,
      "rowLimit": 10000
     },
     "inputWidgets": {},
     "nuid": "be33bc0b-1b7b-4a0c-a4b7-7f2a04167699",
     "showTitle": false,
     "title": ""
    }
   },
   "outputs": [
    {
     "output_type": "display_data",
     "data": {
      "text/html": [
       "<style scoped>\n",
       "  .table-result-container {\n",
       "    max-height: 300px;\n",
       "    overflow: auto;\n",
       "  }\n",
       "  table, th, td {\n",
       "    border: 1px solid black;\n",
       "    border-collapse: collapse;\n",
       "  }\n",
       "  th, td {\n",
       "    padding: 5px;\n",
       "  }\n",
       "  th {\n",
       "    text-align: left;\n",
       "  }\n",
       "</style><div class='table-result-container'><table class='table-result'><thead style='background-color: white'><tr><th>ESCOLARIDADE_MAE</th><th>Media_LC</th><th>Media_MT</th></tr></thead><tbody><tr><td>Completou a Pós-graduação.</td><td>557.23</td><td>621.59</td></tr><tr><td>Completou a Faculdade, mas não completou a Pós-graduação.</td><td>550.46</td><td>606.37</td></tr><tr><td>Completou o Ensino Médio, mas não completou a Faculdade.</td><td>521.89</td><td>542.2</td></tr><tr><td>Completou a 8ª série/9º ano do Ensino Fundamental, mas não completou o Ensino Médio.</td><td>501.97</td><td>505.83</td></tr><tr><td>Completou a 4ª série/5º ano, mas não completou a 8ª série/9º ano do Ensino Fundamental.</td><td>493.72</td><td>492.08</td></tr><tr><td>Não sei.</td><td>483.18</td><td>484.4</td></tr><tr><td>Não completou a 4ª série/5º ano do Ensino Fundamental.</td><td>482.33</td><td>475.01</td></tr><tr><td>Nunca estudou.</td><td>465.51</td><td>452.73</td></tr></tbody></table></div>"
      ]
     },
     "metadata": {
      "application/vnd.databricks.v1+output": {
       "addedWidgets": {},
       "aggData": [],
       "aggError": "",
       "aggOverflow": false,
       "aggSchema": [],
       "aggSeriesLimitReached": false,
       "aggType": "",
       "arguments": {},
       "columnCustomDisplayInfos": {},
       "data": [
        [
         "Completou a Pós-graduação.",
         557.23,
         621.59
        ],
        [
         "Completou a Faculdade, mas não completou a Pós-graduação.",
         550.46,
         606.37
        ],
        [
         "Completou o Ensino Médio, mas não completou a Faculdade.",
         521.89,
         542.2
        ],
        [
         "Completou a 8ª série/9º ano do Ensino Fundamental, mas não completou o Ensino Médio.",
         501.97,
         505.83
        ],
        [
         "Completou a 4ª série/5º ano, mas não completou a 8ª série/9º ano do Ensino Fundamental.",
         493.72,
         492.08
        ],
        [
         "Não sei.",
         483.18,
         484.4
        ],
        [
         "Não completou a 4ª série/5º ano do Ensino Fundamental.",
         482.33,
         475.01
        ],
        [
         "Nunca estudou.",
         465.51,
         452.73
        ]
       ],
       "datasetInfos": [],
       "dbfsResultPath": null,
       "isJsonSchema": true,
       "metadata": {
        "dataframeName": "_sqldf",
        "executionCount": 34
       },
       "overflow": false,
       "plotOptions": {
        "customPlotOptions": {},
        "displayType": "table",
        "pivotAggregation": null,
        "pivotColumns": null,
        "xColumns": null,
        "yColumns": null
       },
       "removedWidgets": [],
       "schema": [
        {
         "metadata": "{}",
         "name": "ESCOLARIDADE_MAE",
         "type": "\"string\""
        },
        {
         "metadata": "{}",
         "name": "Media_LC",
         "type": "\"double\""
        },
        {
         "metadata": "{}",
         "name": "Media_MT",
         "type": "\"double\""
        }
       ],
       "type": "table"
      }
     },
     "output_type": "display_data"
    }
   ],
   "source": [
    "%sql\n",
    "-- EXISTE VARIAÇÃO SIGNIFICATIVA DO DESEMPENHO DO ALUNO COM A ESCOLARIDADE DO MÃE?\n",
    "WITH ESCOLARIDADE_MEDIA AS (\n",
    "  SELECT \n",
    "    CASE\n",
    "      WHEN ESCOLARIDADE_MAE = 'A' THEN 'Nunca estudou.'\n",
    "      WHEN ESCOLARIDADE_MAE = 'B' THEN 'Não completou a 4ª série/5º ano do Ensino Fundamental.'\n",
    "      WHEN ESCOLARIDADE_MAE = 'C' THEN 'Completou a 4ª série/5º ano, mas não completou a 8ª série/9º ano do Ensino Fundamental.'\n",
    "      WHEN ESCOLARIDADE_MAE = 'D' THEN 'Completou a 8ª série/9º ano do Ensino Fundamental, mas não completou o Ensino Médio.'\n",
    "      WHEN ESCOLARIDADE_MAE = 'E' THEN 'Completou o Ensino Médio, mas não completou a Faculdade.'\n",
    "      WHEN ESCOLARIDADE_MAE = 'F' THEN 'Completou a Faculdade, mas não completou a Pós-graduação.'\n",
    "      WHEN ESCOLARIDADE_MAE = 'G' THEN 'Completou a Pós-graduação.'\n",
    "      WHEN ESCOLARIDADE_MAE = 'H' THEN 'Não sei.'\n",
    "    END AS ESCOLARIDADE_MAE\n",
    "\n",
    "    , round(avg(NU_NOTA_LC), 2) AS Media_LC\n",
    "    , round(avg(NU_NOTA_MT), 2) AS Media_MT\n",
    "  FROM BD_Microdados_Enem.tb_enem_gold\n",
    "  GROUP BY ESCOLARIDADE_MAE\n",
    ")\n",
    "\n",
    "SELECT *\n",
    "FROM ESCOLARIDADE_MEDIA\n",
    "ORDER BY Media_LC DESC"
   ]
  },
  {
   "cell_type": "code",
   "execution_count": 0,
   "metadata": {
    "application/vnd.databricks.v1+cell": {
     "cellMetadata": {
      "byteLimit": 2048000,
      "implicitDf": true,
      "rowLimit": 10000
     },
     "inputWidgets": {},
     "nuid": "2281af52-2fb6-440b-9c54-6fafe01595e5",
     "showTitle": false,
     "title": ""
    }
   },
   "outputs": [
    {
     "output_type": "display_data",
     "data": {
      "text/html": [
       "<style scoped>\n",
       "  .table-result-container {\n",
       "    max-height: 300px;\n",
       "    overflow: auto;\n",
       "  }\n",
       "  table, th, td {\n",
       "    border: 1px solid black;\n",
       "    border-collapse: collapse;\n",
       "  }\n",
       "  th, td {\n",
       "    padding: 5px;\n",
       "  }\n",
       "  th {\n",
       "    text-align: left;\n",
       "  }\n",
       "</style><div class='table-result-container'><table class='table-result'><thead style='background-color: white'><tr><th>RENDA_FAMILIAR</th><th>Media_LC</th><th>Media_MT</th></tr></thead><tbody><tr><td>Acima de R$ 26.400,00.</td><td>587.5</td><td>704.55</td></tr><tr><td>De R$ 19.800,01 até R$ 26.400,00.</td><td>585.24</td><td>688.52</td></tr><tr><td>De R$ 15.840,01 até R.800,00.</td><td>577.49</td><td>672.22</td></tr><tr><td>De R$ 13.200,01 até R$ 15.840,00.</td><td>573.13</td><td>663.11</td></tr><tr><td>De R$ 11.880,01 até R$ 13.200,00.</td><td>572.04</td><td>656.35</td></tr><tr><td>De R$ 10.560,01 até R$ 11.880,00.</td><td>565.48</td><td>646.21</td></tr><tr><td>De R$ 9.240,01 até R$ 10.560,00.</td><td>562.91</td><td>637.66</td></tr><tr><td>De R$ 7.920,01 até R$ 9.240,00.</td><td>559.17</td><td>626.97</td></tr><tr><td>De R$ 6.600,01 até R$ 7.920,00.</td><td>554.84</td><td>615.62</td></tr><tr><td>De R$ 5.280,01 até R$ 6.600,00.</td><td>550.58</td><td>605.39</td></tr><tr><td>De R$ 3.960,01 até R$ 5.280,00.</td><td>542.65</td><td>585.95</td></tr><tr><td>De R$ 3.300,01 até R$ 3.960,00.</td><td>536.12</td><td>571.79</td></tr><tr><td>De R$ 2.640,01 até R$ 3.300,00.</td><td>529.16</td><td>553.81</td></tr><tr><td>De R$ 1.980,01 até R$ 2.640,00.</td><td>521.09</td><td>536.79</td></tr><tr><td>De R$ 1.320,01 até R$ 1.980,00.</td><td>510.08</td><td>516.25</td></tr><tr><td>Até R$ 1.320,00</td><td>487.07</td><td>480.39</td></tr><tr><td>Nenhuma Renda</td><td>471.17</td><td>459.14</td></tr></tbody></table></div>"
      ]
     },
     "metadata": {
      "application/vnd.databricks.v1+output": {
       "addedWidgets": {},
       "aggData": [],
       "aggError": "",
       "aggOverflow": false,
       "aggSchema": [],
       "aggSeriesLimitReached": false,
       "aggType": "",
       "arguments": {},
       "columnCustomDisplayInfos": {},
       "data": [
        [
         "Acima de R$ 26.400,00.",
         587.5,
         704.55
        ],
        [
         "De R$ 19.800,01 até R$ 26.400,00.",
         585.24,
         688.52
        ],
        [
         "De R$ 15.840,01 até R.800,00.",
         577.49,
         672.22
        ],
        [
         "De R$ 13.200,01 até R$ 15.840,00.",
         573.13,
         663.11
        ],
        [
         "De R$ 11.880,01 até R$ 13.200,00.",
         572.04,
         656.35
        ],
        [
         "De R$ 10.560,01 até R$ 11.880,00.",
         565.48,
         646.21
        ],
        [
         "De R$ 9.240,01 até R$ 10.560,00.",
         562.91,
         637.66
        ],
        [
         "De R$ 7.920,01 até R$ 9.240,00.",
         559.17,
         626.97
        ],
        [
         "De R$ 6.600,01 até R$ 7.920,00.",
         554.84,
         615.62
        ],
        [
         "De R$ 5.280,01 até R$ 6.600,00.",
         550.58,
         605.39
        ],
        [
         "De R$ 3.960,01 até R$ 5.280,00.",
         542.65,
         585.95
        ],
        [
         "De R$ 3.300,01 até R$ 3.960,00.",
         536.12,
         571.79
        ],
        [
         "De R$ 2.640,01 até R$ 3.300,00.",
         529.16,
         553.81
        ],
        [
         "De R$ 1.980,01 até R$ 2.640,00.",
         521.09,
         536.79
        ],
        [
         "De R$ 1.320,01 até R$ 1.980,00.",
         510.08,
         516.25
        ],
        [
         "Até R$ 1.320,00",
         487.07,
         480.39
        ],
        [
         "Nenhuma Renda",
         471.17,
         459.14
        ]
       ],
       "datasetInfos": [],
       "dbfsResultPath": null,
       "isJsonSchema": true,
       "metadata": {
        "dataframeName": "_sqldf",
        "executionCount": 35
       },
       "overflow": false,
       "plotOptions": {
        "customPlotOptions": {},
        "displayType": "table",
        "pivotAggregation": null,
        "pivotColumns": null,
        "xColumns": null,
        "yColumns": null
       },
       "removedWidgets": [],
       "schema": [
        {
         "metadata": "{}",
         "name": "RENDA_FAMILIAR",
         "type": "\"string\""
        },
        {
         "metadata": "{}",
         "name": "Media_LC",
         "type": "\"double\""
        },
        {
         "metadata": "{}",
         "name": "Media_MT",
         "type": "\"double\""
        }
       ],
       "type": "table"
      }
     },
     "output_type": "display_data"
    }
   ],
   "source": [
    "%sql\n",
    "-- EXISTE VARIAÇÃO SIGNIFICATIVA DO DESEMPENHO DO ALUNO COM A RENDA FAMILIAR?\n",
    "WITH RENDA_FAMILIAR AS (\n",
    "  SELECT \n",
    "    CASE\n",
    "      WHEN RENDA_FAMILIAR = 'A' THEN 'Nenhuma Renda'\n",
    "      WHEN RENDA_FAMILIAR = 'B' THEN 'Até R$ 1.320,00'\n",
    "      WHEN RENDA_FAMILIAR = 'C' THEN 'De R$ 1.320,01 até R$ 1.980,00.'\n",
    "      WHEN RENDA_FAMILIAR = 'D' THEN 'De R$ 1.980,01 até R$ 2.640,00.'\n",
    "      WHEN RENDA_FAMILIAR = 'E' THEN 'De R$ 2.640,01 até R$ 3.300,00.'\n",
    "      WHEN RENDA_FAMILIAR = 'F' THEN 'De R$ 3.300,01 até R$ 3.960,00.'\n",
    "      WHEN RENDA_FAMILIAR = 'G' THEN 'De R$ 3.960,01 até R$ 5.280,00.'\n",
    "      WHEN RENDA_FAMILIAR = 'H' THEN 'De R$ 5.280,01 até R$ 6.600,00.'\n",
    "      WHEN RENDA_FAMILIAR = 'I' THEN 'De R$ 6.600,01 até R$ 7.920,00.'\n",
    "      WHEN RENDA_FAMILIAR = 'J' THEN 'De R$ 7.920,01 até R$ 9.240,00.'\n",
    "      WHEN RENDA_FAMILIAR = 'K' THEN 'De R$ 9.240,01 até R$ 10.560,00.'\n",
    "      WHEN RENDA_FAMILIAR = 'L' THEN 'De R$ 10.560,01 até R$ 11.880,00.'\n",
    "      WHEN RENDA_FAMILIAR = 'M' THEN 'De R$ 11.880,01 até R$ 13.200,00.'\n",
    "      WHEN RENDA_FAMILIAR = 'N' THEN 'De R$ 13.200,01 até R$ 15.840,00.'\n",
    "      WHEN RENDA_FAMILIAR = 'O' THEN 'De R$ 15.840,01 até R$19.800,00.'\n",
    "      WHEN RENDA_FAMILIAR = 'P' THEN 'De R$ 19.800,01 até R$ 26.400,00.'      \n",
    "      WHEN RENDA_FAMILIAR = 'Q' THEN 'Acima de R$ 26.400,00.'            \n",
    "    END AS RENDA_FAMILIAR\n",
    "\n",
    "    , round(avg(NU_NOTA_LC), 2) AS Media_LC\n",
    "    , round(avg(NU_NOTA_MT), 2) AS Media_MT\n",
    "  FROM BD_Microdados_Enem.tb_enem_gold\n",
    "  GROUP BY RENDA_FAMILIAR\n",
    ")\n",
    "\n",
    "SELECT *\n",
    "FROM RENDA_FAMILIAR\n",
    "ORDER BY Media_LC DESC"
   ]
  },
  {
   "cell_type": "code",
   "execution_count": 0,
   "metadata": {
    "application/vnd.databricks.v1+cell": {
     "cellMetadata": {
      "byteLimit": 2048000,
      "implicitDf": true,
      "rowLimit": 10000
     },
     "inputWidgets": {},
     "nuid": "e97fdf22-8091-4b48-b515-f885d22bc11f",
     "showTitle": false,
     "title": ""
    }
   },
   "outputs": [
    {
     "output_type": "display_data",
     "data": {
      "text/html": [
       "<style scoped>\n",
       "  .table-result-container {\n",
       "    max-height: 300px;\n",
       "    overflow: auto;\n",
       "  }\n",
       "  table, th, td {\n",
       "    border: 1px solid black;\n",
       "    border-collapse: collapse;\n",
       "  }\n",
       "  th, td {\n",
       "    padding: 5px;\n",
       "  }\n",
       "  th {\n",
       "    text-align: left;\n",
       "  }\n",
       "</style><div class='table-result-container'><table class='table-result'><thead style='background-color: white'><tr><th>DESKTOP_INTERNET</th><th>Media_LC</th><th>Media_MT</th></tr></thead><tbody><tr><td>Sim</td><td>545.39</td><td>593.65</td></tr><tr><td>Não</td><td>494.5</td><td>493.54</td></tr></tbody></table></div>"
      ]
     },
     "metadata": {
      "application/vnd.databricks.v1+output": {
       "addedWidgets": {},
       "aggData": [],
       "aggError": "",
       "aggOverflow": false,
       "aggSchema": [],
       "aggSeriesLimitReached": false,
       "aggType": "",
       "arguments": {},
       "columnCustomDisplayInfos": {},
       "data": [
        [
         "Sim",
         545.39,
         593.65
        ],
        [
         "Não",
         494.5,
         493.54
        ]
       ],
       "datasetInfos": [],
       "dbfsResultPath": null,
       "isJsonSchema": true,
       "metadata": {
        "dataframeName": "_sqldf",
        "executionCount": 36
       },
       "overflow": false,
       "plotOptions": {
        "customPlotOptions": {},
        "displayType": "table",
        "pivotAggregation": null,
        "pivotColumns": null,
        "xColumns": null,
        "yColumns": null
       },
       "removedWidgets": [],
       "schema": [
        {
         "metadata": "{}",
         "name": "DESKTOP_INTERNET",
         "type": "\"string\""
        },
        {
         "metadata": "{}",
         "name": "Media_LC",
         "type": "\"double\""
        },
        {
         "metadata": "{}",
         "name": "Media_MT",
         "type": "\"double\""
        }
       ],
       "type": "table"
      }
     },
     "output_type": "display_data"
    }
   ],
   "source": [
    "%sql\n",
    "-- EXISTE VARIAÇÃO SIGNIFICATIVA DO DESEMPENHO DO ALUNO COM ACESSO A COMPUTADOR COM INTERNET?\n",
    "WITH INFRAESTRUTURA_DESKTOP_INTERNET AS (\n",
    "  SELECT \n",
    "    CASE\n",
    "      WHEN TEM_COMPUTADOR = 'B' AND TEM_INTERNET = 'B' THEN 'Sim'\n",
    "      ELSE 'Não'\n",
    "    END AS DESKTOP_INTERNET\n",
    "    , round(avg(NU_NOTA_LC), 2) AS Media_LC\n",
    "    , round(avg(NU_NOTA_MT), 2) AS Media_MT\n",
    "  FROM BD_Microdados_Enem.tb_enem_gold\n",
    "  GROUP BY DESKTOP_INTERNET\n",
    ")\n",
    "\n",
    "SELECT *\n",
    "FROM INFRAESTRUTURA_DESKTOP_INTERNET\n",
    "ORDER BY Media_LC DESC"
   ]
  },
  {
   "cell_type": "code",
   "execution_count": 0,
   "metadata": {
    "application/vnd.databricks.v1+cell": {
     "cellMetadata": {
      "byteLimit": 2048000,
      "implicitDf": true,
      "rowLimit": 10000
     },
     "inputWidgets": {},
     "nuid": "26a5e632-0f72-41ec-8188-d30d7dda5ae4",
     "showTitle": false,
     "title": ""
    }
   },
   "outputs": [
    {
     "output_type": "display_data",
     "data": {
      "text/html": [
       "<style scoped>\n",
       "  .table-result-container {\n",
       "    max-height: 300px;\n",
       "    overflow: auto;\n",
       "  }\n",
       "  table, th, td {\n",
       "    border: 1px solid black;\n",
       "    border-collapse: collapse;\n",
       "  }\n",
       "  th, td {\n",
       "    padding: 5px;\n",
       "  }\n",
       "  th {\n",
       "    text-align: left;\n",
       "  }\n",
       "</style><div class='table-result-container'><table class='table-result'><thead style='background-color: white'><tr><th>TIPO_ESCOLA</th><th>Media_LC</th><th>Media_MT</th></tr></thead><tbody><tr><td>Privada</td><td>563.37</td><td>638.02</td></tr><tr><td>Pública</td><td>507.18</td><td>515.1</td></tr></tbody></table></div>"
      ]
     },
     "metadata": {
      "application/vnd.databricks.v1+output": {
       "addedWidgets": {},
       "aggData": [],
       "aggError": "",
       "aggOverflow": false,
       "aggSchema": [],
       "aggSeriesLimitReached": false,
       "aggType": "",
       "arguments": {},
       "columnCustomDisplayInfos": {},
       "data": [
        [
         "Privada",
         563.37,
         638.02
        ],
        [
         "Pública",
         507.18,
         515.1
        ]
       ],
       "datasetInfos": [],
       "dbfsResultPath": null,
       "isJsonSchema": true,
       "metadata": {
        "dataframeName": "_sqldf",
        "executionCount": 39
       },
       "overflow": false,
       "plotOptions": {
        "customPlotOptions": {},
        "displayType": "table",
        "pivotAggregation": null,
        "pivotColumns": null,
        "xColumns": null,
        "yColumns": null
       },
       "removedWidgets": [],
       "schema": [
        {
         "metadata": "{}",
         "name": "TIPO_ESCOLA",
         "type": "\"string\""
        },
        {
         "metadata": "{}",
         "name": "Media_LC",
         "type": "\"double\""
        },
        {
         "metadata": "{}",
         "name": "Media_MT",
         "type": "\"double\""
        }
       ],
       "type": "table"
      }
     },
     "output_type": "display_data"
    }
   ],
   "source": [
    "%sql\n",
    "-- EXISTE VARIAÇÃO SIGNIFICATIVA DO DESEMPENHO DO ALUNO DE ESCOLA PÚBLICA E PRIVADA?\n",
    "WITH TIPO_ESCOLA_ENS_MEDIO AS (\n",
    "  SELECT \n",
    "    CASE\n",
    "      --WHEN TP_ESCOLA = 1 THEN 'Não Respondeu'\n",
    "      WHEN TP_ESCOLA = 2 THEN 'Pública'\n",
    "      WHEN TP_ESCOLA = 3 THEN 'Privada'\n",
    "    END AS TIPO_ESCOLA\n",
    "    , round(avg(NU_NOTA_LC), 2) AS Media_LC\n",
    "    , round(avg(NU_NOTA_MT), 2) AS Media_MT\n",
    "  FROM BD_Microdados_Enem.tb_enem_gold\n",
    "  WHERE TP_ESCOLA IN (2, 3)\n",
    "  GROUP BY TIPO_ESCOLA\n",
    ")\n",
    "\n",
    "SELECT *\n",
    "FROM TIPO_ESCOLA_ENS_MEDIO\n",
    "ORDER BY Media_LC DESC"
   ]
  },
  {
   "cell_type": "code",
   "execution_count": 0,
   "metadata": {
    "application/vnd.databricks.v1+cell": {
     "cellMetadata": {
      "byteLimit": 2048000,
      "rowLimit": 10000
     },
     "inputWidgets": {},
     "nuid": "92a1a9c5-25fa-4422-bc1f-035e752305d0",
     "showTitle": false,
     "title": ""
    }
   },
   "outputs": [
    {
     "output_type": "display_data",
     "data": {
      "text/plain": [
       "\u001B[0;31m---------------------------------------------------------------------------\u001B[0m\n",
       "\u001B[0;31mParseException\u001B[0m                            Traceback (most recent call last)\n",
       "File \u001B[0;32m<command-4332324333280877>, line 3\u001B[0m\n",
       "\u001B[1;32m      1\u001B[0m spark\u001B[38;5;241m.\u001B[39msql(\u001B[38;5;124m'\u001B[39m\u001B[38;5;124mUSE DATABASE bd_microdados_enem\u001B[39m\u001B[38;5;124m'\u001B[39m)\n",
       "\u001B[0;32m----> 3\u001B[0m spark\u001B[38;5;241m.\u001B[39msql(\u001B[38;5;124m'''\u001B[39m\n",
       "\u001B[1;32m      4\u001B[0m \u001B[38;5;124mCREATE TABLE IF NOT EXISTS BD_Microdados_Enem.tb_enem_2023_attributes\u001B[39m\n",
       "\u001B[1;32m      5\u001B[0m \u001B[38;5;124mAS SELECT * FROM delta.\u001B[39m\u001B[38;5;124m'\u001B[39m\u001B[38;5;124m/mnt/stdataengineeringmvp/silver/microdados_enem_2023_silver`\u001B[39m\n",
       "\u001B[1;32m      6\u001B[0m \u001B[38;5;124m'''\u001B[39m)\n",
       "\n",
       "File \u001B[0;32m/databricks/spark/python/pyspark/instrumentation_utils.py:47\u001B[0m, in \u001B[0;36m_wrap_function.<locals>.wrapper\u001B[0;34m(*args, **kwargs)\u001B[0m\n",
       "\u001B[1;32m     45\u001B[0m start \u001B[38;5;241m=\u001B[39m time\u001B[38;5;241m.\u001B[39mperf_counter()\n",
       "\u001B[1;32m     46\u001B[0m \u001B[38;5;28;01mtry\u001B[39;00m:\n",
       "\u001B[0;32m---> 47\u001B[0m     res \u001B[38;5;241m=\u001B[39m func(\u001B[38;5;241m*\u001B[39margs, \u001B[38;5;241m*\u001B[39m\u001B[38;5;241m*\u001B[39mkwargs)\n",
       "\u001B[1;32m     48\u001B[0m     logger\u001B[38;5;241m.\u001B[39mlog_success(\n",
       "\u001B[1;32m     49\u001B[0m         module_name, class_name, function_name, time\u001B[38;5;241m.\u001B[39mperf_counter() \u001B[38;5;241m-\u001B[39m start, signature\n",
       "\u001B[1;32m     50\u001B[0m     )\n",
       "\u001B[1;32m     51\u001B[0m     \u001B[38;5;28;01mreturn\u001B[39;00m res\n",
       "\n",
       "File \u001B[0;32m/databricks/spark/python/pyspark/sql/session.py:1820\u001B[0m, in \u001B[0;36mSparkSession.sql\u001B[0;34m(self, sqlQuery, args, **kwargs)\u001B[0m\n",
       "\u001B[1;32m   1815\u001B[0m     \u001B[38;5;28;01melse\u001B[39;00m:\n",
       "\u001B[1;32m   1816\u001B[0m         \u001B[38;5;28;01mraise\u001B[39;00m PySparkTypeError(\n",
       "\u001B[1;32m   1817\u001B[0m             error_class\u001B[38;5;241m=\u001B[39m\u001B[38;5;124m\"\u001B[39m\u001B[38;5;124mINVALID_TYPE\u001B[39m\u001B[38;5;124m\"\u001B[39m,\n",
       "\u001B[1;32m   1818\u001B[0m             message_parameters\u001B[38;5;241m=\u001B[39m{\u001B[38;5;124m\"\u001B[39m\u001B[38;5;124marg_name\u001B[39m\u001B[38;5;124m\"\u001B[39m: \u001B[38;5;124m\"\u001B[39m\u001B[38;5;124margs\u001B[39m\u001B[38;5;124m\"\u001B[39m, \u001B[38;5;124m\"\u001B[39m\u001B[38;5;124marg_type\u001B[39m\u001B[38;5;124m\"\u001B[39m: \u001B[38;5;28mtype\u001B[39m(args)\u001B[38;5;241m.\u001B[39m\u001B[38;5;18m__name__\u001B[39m},\n",
       "\u001B[1;32m   1819\u001B[0m         )\n",
       "\u001B[0;32m-> 1820\u001B[0m     \u001B[38;5;28;01mreturn\u001B[39;00m DataFrame(\u001B[38;5;28mself\u001B[39m\u001B[38;5;241m.\u001B[39m_jsparkSession\u001B[38;5;241m.\u001B[39msql(sqlQuery, litArgs), \u001B[38;5;28mself\u001B[39m)\n",
       "\u001B[1;32m   1821\u001B[0m \u001B[38;5;28;01mfinally\u001B[39;00m:\n",
       "\u001B[1;32m   1822\u001B[0m     \u001B[38;5;28;01mif\u001B[39;00m \u001B[38;5;28mlen\u001B[39m(kwargs) \u001B[38;5;241m>\u001B[39m \u001B[38;5;241m0\u001B[39m:\n",
       "\n",
       "File \u001B[0;32m/databricks/spark/python/lib/py4j-0.10.9.7-src.zip/py4j/java_gateway.py:1355\u001B[0m, in \u001B[0;36mJavaMember.__call__\u001B[0;34m(self, *args)\u001B[0m\n",
       "\u001B[1;32m   1349\u001B[0m command \u001B[38;5;241m=\u001B[39m proto\u001B[38;5;241m.\u001B[39mCALL_COMMAND_NAME \u001B[38;5;241m+\u001B[39m\\\n",
       "\u001B[1;32m   1350\u001B[0m     \u001B[38;5;28mself\u001B[39m\u001B[38;5;241m.\u001B[39mcommand_header \u001B[38;5;241m+\u001B[39m\\\n",
       "\u001B[1;32m   1351\u001B[0m     args_command \u001B[38;5;241m+\u001B[39m\\\n",
       "\u001B[1;32m   1352\u001B[0m     proto\u001B[38;5;241m.\u001B[39mEND_COMMAND_PART\n",
       "\u001B[1;32m   1354\u001B[0m answer \u001B[38;5;241m=\u001B[39m \u001B[38;5;28mself\u001B[39m\u001B[38;5;241m.\u001B[39mgateway_client\u001B[38;5;241m.\u001B[39msend_command(command)\n",
       "\u001B[0;32m-> 1355\u001B[0m return_value \u001B[38;5;241m=\u001B[39m get_return_value(\n",
       "\u001B[1;32m   1356\u001B[0m     answer, \u001B[38;5;28mself\u001B[39m\u001B[38;5;241m.\u001B[39mgateway_client, \u001B[38;5;28mself\u001B[39m\u001B[38;5;241m.\u001B[39mtarget_id, \u001B[38;5;28mself\u001B[39m\u001B[38;5;241m.\u001B[39mname)\n",
       "\u001B[1;32m   1358\u001B[0m \u001B[38;5;28;01mfor\u001B[39;00m temp_arg \u001B[38;5;129;01min\u001B[39;00m temp_args:\n",
       "\u001B[1;32m   1359\u001B[0m     \u001B[38;5;28;01mif\u001B[39;00m \u001B[38;5;28mhasattr\u001B[39m(temp_arg, \u001B[38;5;124m\"\u001B[39m\u001B[38;5;124m_detach\u001B[39m\u001B[38;5;124m\"\u001B[39m):\n",
       "\n",
       "File \u001B[0;32m/databricks/spark/python/pyspark/errors/exceptions/captured.py:254\u001B[0m, in \u001B[0;36mcapture_sql_exception.<locals>.deco\u001B[0;34m(*a, **kw)\u001B[0m\n",
       "\u001B[1;32m    250\u001B[0m converted \u001B[38;5;241m=\u001B[39m convert_exception(e\u001B[38;5;241m.\u001B[39mjava_exception)\n",
       "\u001B[1;32m    251\u001B[0m \u001B[38;5;28;01mif\u001B[39;00m \u001B[38;5;129;01mnot\u001B[39;00m \u001B[38;5;28misinstance\u001B[39m(converted, UnknownException):\n",
       "\u001B[1;32m    252\u001B[0m     \u001B[38;5;66;03m# Hide where the exception came from that shows a non-Pythonic\u001B[39;00m\n",
       "\u001B[1;32m    253\u001B[0m     \u001B[38;5;66;03m# JVM exception message.\u001B[39;00m\n",
       "\u001B[0;32m--> 254\u001B[0m     \u001B[38;5;28;01mraise\u001B[39;00m converted \u001B[38;5;28;01mfrom\u001B[39;00m \u001B[38;5;28;01mNone\u001B[39;00m\n",
       "\u001B[1;32m    255\u001B[0m \u001B[38;5;28;01melse\u001B[39;00m:\n",
       "\u001B[1;32m    256\u001B[0m     \u001B[38;5;28;01mraise\u001B[39;00m\n",
       "\n",
       "\u001B[0;31mParseException\u001B[0m: \n",
       "[PARSE_SYNTAX_ERROR] Syntax error at or near '''. SQLSTATE: 42601 (line 3, pos 23)\n",
       "\n",
       "== SQL ==\n",
       "\n",
       "CREATE TABLE IF NOT EXISTS BD_Microdados_Enem.tb_enem_2023_attributes\n",
       "AS SELECT * FROM delta.'/mnt/stdataengineeringmvp/silver/microdados_enem_2023_silver`\n",
       "-----------------------^^^\n"
      ]
     },
     "metadata": {
      "application/vnd.databricks.v1+output": {
       "addedWidgets": {},
       "arguments": {},
       "datasetInfos": [],
       "jupyterProps": {
        "ename": "ParseException",
        "evalue": "\n[PARSE_SYNTAX_ERROR] Syntax error at or near '''. SQLSTATE: 42601 (line 3, pos 23)\n\n== SQL ==\n\nCREATE TABLE IF NOT EXISTS BD_Microdados_Enem.tb_enem_2023_attributes\nAS SELECT * FROM delta.'/mnt/stdataengineeringmvp/silver/microdados_enem_2023_silver`\n-----------------------^^^\n"
       },
       "metadata": {
        "errorSummary": "Command skipped"
       },
       "removedWidgets": [],
       "sqlProps": {
        "errorClass": "PARSE_SYNTAX_ERROR",
        "sqlState": "42601",
        "startIndex": null,
        "stopIndex": null
       },
       "stackFrames": [
        "\u001B[0;31m---------------------------------------------------------------------------\u001B[0m",
        "\u001B[0;31mParseException\u001B[0m                            Traceback (most recent call last)",
        "File \u001B[0;32m<command-4332324333280877>, line 3\u001B[0m\n\u001B[1;32m      1\u001B[0m spark\u001B[38;5;241m.\u001B[39msql(\u001B[38;5;124m'\u001B[39m\u001B[38;5;124mUSE DATABASE bd_microdados_enem\u001B[39m\u001B[38;5;124m'\u001B[39m)\n\u001B[0;32m----> 3\u001B[0m spark\u001B[38;5;241m.\u001B[39msql(\u001B[38;5;124m'''\u001B[39m\n\u001B[1;32m      4\u001B[0m \u001B[38;5;124mCREATE TABLE IF NOT EXISTS BD_Microdados_Enem.tb_enem_2023_attributes\u001B[39m\n\u001B[1;32m      5\u001B[0m \u001B[38;5;124mAS SELECT * FROM delta.\u001B[39m\u001B[38;5;124m'\u001B[39m\u001B[38;5;124m/mnt/stdataengineeringmvp/silver/microdados_enem_2023_silver`\u001B[39m\n\u001B[1;32m      6\u001B[0m \u001B[38;5;124m'''\u001B[39m)\n",
        "File \u001B[0;32m/databricks/spark/python/pyspark/instrumentation_utils.py:47\u001B[0m, in \u001B[0;36m_wrap_function.<locals>.wrapper\u001B[0;34m(*args, **kwargs)\u001B[0m\n\u001B[1;32m     45\u001B[0m start \u001B[38;5;241m=\u001B[39m time\u001B[38;5;241m.\u001B[39mperf_counter()\n\u001B[1;32m     46\u001B[0m \u001B[38;5;28;01mtry\u001B[39;00m:\n\u001B[0;32m---> 47\u001B[0m     res \u001B[38;5;241m=\u001B[39m func(\u001B[38;5;241m*\u001B[39margs, \u001B[38;5;241m*\u001B[39m\u001B[38;5;241m*\u001B[39mkwargs)\n\u001B[1;32m     48\u001B[0m     logger\u001B[38;5;241m.\u001B[39mlog_success(\n\u001B[1;32m     49\u001B[0m         module_name, class_name, function_name, time\u001B[38;5;241m.\u001B[39mperf_counter() \u001B[38;5;241m-\u001B[39m start, signature\n\u001B[1;32m     50\u001B[0m     )\n\u001B[1;32m     51\u001B[0m     \u001B[38;5;28;01mreturn\u001B[39;00m res\n",
        "File \u001B[0;32m/databricks/spark/python/pyspark/sql/session.py:1820\u001B[0m, in \u001B[0;36mSparkSession.sql\u001B[0;34m(self, sqlQuery, args, **kwargs)\u001B[0m\n\u001B[1;32m   1815\u001B[0m     \u001B[38;5;28;01melse\u001B[39;00m:\n\u001B[1;32m   1816\u001B[0m         \u001B[38;5;28;01mraise\u001B[39;00m PySparkTypeError(\n\u001B[1;32m   1817\u001B[0m             error_class\u001B[38;5;241m=\u001B[39m\u001B[38;5;124m\"\u001B[39m\u001B[38;5;124mINVALID_TYPE\u001B[39m\u001B[38;5;124m\"\u001B[39m,\n\u001B[1;32m   1818\u001B[0m             message_parameters\u001B[38;5;241m=\u001B[39m{\u001B[38;5;124m\"\u001B[39m\u001B[38;5;124marg_name\u001B[39m\u001B[38;5;124m\"\u001B[39m: \u001B[38;5;124m\"\u001B[39m\u001B[38;5;124margs\u001B[39m\u001B[38;5;124m\"\u001B[39m, \u001B[38;5;124m\"\u001B[39m\u001B[38;5;124marg_type\u001B[39m\u001B[38;5;124m\"\u001B[39m: \u001B[38;5;28mtype\u001B[39m(args)\u001B[38;5;241m.\u001B[39m\u001B[38;5;18m__name__\u001B[39m},\n\u001B[1;32m   1819\u001B[0m         )\n\u001B[0;32m-> 1820\u001B[0m     \u001B[38;5;28;01mreturn\u001B[39;00m DataFrame(\u001B[38;5;28mself\u001B[39m\u001B[38;5;241m.\u001B[39m_jsparkSession\u001B[38;5;241m.\u001B[39msql(sqlQuery, litArgs), \u001B[38;5;28mself\u001B[39m)\n\u001B[1;32m   1821\u001B[0m \u001B[38;5;28;01mfinally\u001B[39;00m:\n\u001B[1;32m   1822\u001B[0m     \u001B[38;5;28;01mif\u001B[39;00m \u001B[38;5;28mlen\u001B[39m(kwargs) \u001B[38;5;241m>\u001B[39m \u001B[38;5;241m0\u001B[39m:\n",
        "File \u001B[0;32m/databricks/spark/python/lib/py4j-0.10.9.7-src.zip/py4j/java_gateway.py:1355\u001B[0m, in \u001B[0;36mJavaMember.__call__\u001B[0;34m(self, *args)\u001B[0m\n\u001B[1;32m   1349\u001B[0m command \u001B[38;5;241m=\u001B[39m proto\u001B[38;5;241m.\u001B[39mCALL_COMMAND_NAME \u001B[38;5;241m+\u001B[39m\\\n\u001B[1;32m   1350\u001B[0m     \u001B[38;5;28mself\u001B[39m\u001B[38;5;241m.\u001B[39mcommand_header \u001B[38;5;241m+\u001B[39m\\\n\u001B[1;32m   1351\u001B[0m     args_command \u001B[38;5;241m+\u001B[39m\\\n\u001B[1;32m   1352\u001B[0m     proto\u001B[38;5;241m.\u001B[39mEND_COMMAND_PART\n\u001B[1;32m   1354\u001B[0m answer \u001B[38;5;241m=\u001B[39m \u001B[38;5;28mself\u001B[39m\u001B[38;5;241m.\u001B[39mgateway_client\u001B[38;5;241m.\u001B[39msend_command(command)\n\u001B[0;32m-> 1355\u001B[0m return_value \u001B[38;5;241m=\u001B[39m get_return_value(\n\u001B[1;32m   1356\u001B[0m     answer, \u001B[38;5;28mself\u001B[39m\u001B[38;5;241m.\u001B[39mgateway_client, \u001B[38;5;28mself\u001B[39m\u001B[38;5;241m.\u001B[39mtarget_id, \u001B[38;5;28mself\u001B[39m\u001B[38;5;241m.\u001B[39mname)\n\u001B[1;32m   1358\u001B[0m \u001B[38;5;28;01mfor\u001B[39;00m temp_arg \u001B[38;5;129;01min\u001B[39;00m temp_args:\n\u001B[1;32m   1359\u001B[0m     \u001B[38;5;28;01mif\u001B[39;00m \u001B[38;5;28mhasattr\u001B[39m(temp_arg, \u001B[38;5;124m\"\u001B[39m\u001B[38;5;124m_detach\u001B[39m\u001B[38;5;124m\"\u001B[39m):\n",
        "File \u001B[0;32m/databricks/spark/python/pyspark/errors/exceptions/captured.py:254\u001B[0m, in \u001B[0;36mcapture_sql_exception.<locals>.deco\u001B[0;34m(*a, **kw)\u001B[0m\n\u001B[1;32m    250\u001B[0m converted \u001B[38;5;241m=\u001B[39m convert_exception(e\u001B[38;5;241m.\u001B[39mjava_exception)\n\u001B[1;32m    251\u001B[0m \u001B[38;5;28;01mif\u001B[39;00m \u001B[38;5;129;01mnot\u001B[39;00m \u001B[38;5;28misinstance\u001B[39m(converted, UnknownException):\n\u001B[1;32m    252\u001B[0m     \u001B[38;5;66;03m# Hide where the exception came from that shows a non-Pythonic\u001B[39;00m\n\u001B[1;32m    253\u001B[0m     \u001B[38;5;66;03m# JVM exception message.\u001B[39;00m\n\u001B[0;32m--> 254\u001B[0m     \u001B[38;5;28;01mraise\u001B[39;00m converted \u001B[38;5;28;01mfrom\u001B[39;00m \u001B[38;5;28;01mNone\u001B[39;00m\n\u001B[1;32m    255\u001B[0m \u001B[38;5;28;01melse\u001B[39;00m:\n\u001B[1;32m    256\u001B[0m     \u001B[38;5;28;01mraise\u001B[39;00m\n",
        "\u001B[0;31mParseException\u001B[0m: \n[PARSE_SYNTAX_ERROR] Syntax error at or near '''. SQLSTATE: 42601 (line 3, pos 23)\n\n== SQL ==\n\nCREATE TABLE IF NOT EXISTS BD_Microdados_Enem.tb_enem_2023_attributes\nAS SELECT * FROM delta.'/mnt/stdataengineeringmvp/silver/microdados_enem_2023_silver`\n-----------------------^^^\n"
       ],
       "type": "baseError"
      }
     },
     "output_type": "display_data"
    }
   ],
   "source": [
    "#filtered_df_enem.createOrReplaceTempView('tb_enem_2023')\n",
    "#%sql\n",
    "#select * from tb_enem_2023\n",
    "#limit 5"
   ]
  }
 ],
 "metadata": {
  "application/vnd.databricks.v1+notebook": {
   "dashboards": [],
   "environmentMetadata": null,
   "language": "python",
   "notebookMetadata": {
    "mostRecentlyExecutedCommandWithImplicitDF": {
     "commandId": 2139432369878078,
     "dataframes": [
      "_sqldf"
     ]
    },
    "pythonIndentUnit": 4
   },
   "notebookName": "Notebook MVP Data Engineering 2024 PUC Rio",
   "widgets": {}
  }
 },
 "nbformat": 4,
 "nbformat_minor": 0
}
